{
  "nbformat": 4,
  "nbformat_minor": 0,
  "metadata": {
    "colab": {
      "provenance": [],
      "collapsed_sections": [
        "QLjRI1SWjN6k",
        "DlgPsglJjGip",
        "hqhOX1UamlYC",
        "ccXgPW1Fysq8",
        "L-6yrWJV0MzI",
        "QouKU3GB0zOP",
        "oDmZei3K7RFt",
        "qXjxLAq5Cji7",
        "v1XlA2W_Cwcy",
        "5zapsTXLDmb2",
        "VHxPJ-4yC1K6",
        "xUu7zU7JMlrn",
        "cwlQtUsjMxhW",
        "98h7JafENrDK",
        "gY-5mwuUXtHB",
        "qqpJTkwINDUk",
        "_vrjLFj8OLiI",
        "6h2gV2FlORqm",
        "iTpdsU3MOVg6"
      ]
    },
    "kernelspec": {
      "name": "python3",
      "display_name": "Python 3"
    },
    "language_info": {
      "name": "python"
    }
  },
  "cells": [
    {
      "cell_type": "code",
      "execution_count": null,
      "metadata": {
        "id": "leHXNJeSYTqc"
      },
      "outputs": [],
      "source": [
        "# importing libraries\n",
        "\n",
        "import numpy as np\n",
        "import pandas as pd\n",
        "import matplotlib.pyplot as plt\n",
        "import seaborn as sns"
      ]
    },
    {
      "cell_type": "code",
      "source": [
        "# mounting drive\n",
        "\n",
        "from google.colab import drive\n",
        "drive.mount('/content/drive')"
      ],
      "metadata": {
        "colab": {
          "base_uri": "https://localhost:8080/"
        },
        "id": "1mBbVGMgiIKu",
        "outputId": "d74382f9-b1d8-4bf1-835f-eb43a35efdcc"
      },
      "execution_count": null,
      "outputs": [
        {
          "output_type": "stream",
          "name": "stdout",
          "text": [
            "Drive already mounted at /content/drive; to attempt to forcibly remount, call drive.mount(\"/content/drive\", force_remount=True).\n"
          ]
        }
      ]
    },
    {
      "cell_type": "code",
      "source": [
        "# importing train and test datasets from drive\n",
        "\n",
        "df = pd.read_csv(\"/content/drive/MyDrive/Datasets/BOD/train.csv\")\n",
        "dft = pd.read_csv(\"/content/drive/MyDrive/Datasets/BOD/test.csv\")"
      ],
      "metadata": {
        "id": "jE8ec-8-gfS3"
      },
      "execution_count": null,
      "outputs": []
    },
    {
      "cell_type": "code",
      "source": [
        "# print the test dataset\n",
        "\n",
        "df"
      ],
      "metadata": {
        "colab": {
          "base_uri": "https://localhost:8080/",
          "height": 424
        },
        "id": "pLZ9HZPVgoRu",
        "outputId": "e0e500ff-b197-4848-9313-9bdf8dafdd4d"
      },
      "execution_count": null,
      "outputs": [
        {
          "output_type": "execute_result",
          "data": {
            "text/plain": [
              "      Id  target     1     2   3   4   5   6   7\n",
              "0      0    5.85  4.80  5.85 NaN NaN NaN NaN NaN\n",
              "1      3    4.28  5.88  6.84 NaN NaN NaN NaN NaN\n",
              "2      4    3.97  3.20  2.70 NaN NaN NaN NaN NaN\n",
              "3      5    5.95  7.70  7.06 NaN NaN NaN NaN NaN\n",
              "4      6    4.70  5.50  5.30 NaN NaN NaN NaN NaN\n",
              "..   ...     ...   ...   ...  ..  ..  ..  ..  ..\n",
              "142  208    2.20  5.00  5.80 NaN NaN NaN NaN NaN\n",
              "143  211    5.60  8.00  8.00 NaN NaN NaN NaN NaN\n",
              "144  212    6.00  6.80  7.20 NaN NaN NaN NaN NaN\n",
              "145  213    8.00  5.20  7.80 NaN NaN NaN NaN NaN\n",
              "146  214    3.10  3.40  4.10 NaN NaN NaN NaN NaN\n",
              "\n",
              "[147 rows x 9 columns]"
            ],
            "text/html": [
              "\n",
              "  <div id=\"df-d0172ac4-39f2-4146-82b8-7251dec179f2\">\n",
              "    <div class=\"colab-df-container\">\n",
              "      <div>\n",
              "<style scoped>\n",
              "    .dataframe tbody tr th:only-of-type {\n",
              "        vertical-align: middle;\n",
              "    }\n",
              "\n",
              "    .dataframe tbody tr th {\n",
              "        vertical-align: top;\n",
              "    }\n",
              "\n",
              "    .dataframe thead th {\n",
              "        text-align: right;\n",
              "    }\n",
              "</style>\n",
              "<table border=\"1\" class=\"dataframe\">\n",
              "  <thead>\n",
              "    <tr style=\"text-align: right;\">\n",
              "      <th></th>\n",
              "      <th>Id</th>\n",
              "      <th>target</th>\n",
              "      <th>1</th>\n",
              "      <th>2</th>\n",
              "      <th>3</th>\n",
              "      <th>4</th>\n",
              "      <th>5</th>\n",
              "      <th>6</th>\n",
              "      <th>7</th>\n",
              "    </tr>\n",
              "  </thead>\n",
              "  <tbody>\n",
              "    <tr>\n",
              "      <th>0</th>\n",
              "      <td>0</td>\n",
              "      <td>5.85</td>\n",
              "      <td>4.80</td>\n",
              "      <td>5.85</td>\n",
              "      <td>NaN</td>\n",
              "      <td>NaN</td>\n",
              "      <td>NaN</td>\n",
              "      <td>NaN</td>\n",
              "      <td>NaN</td>\n",
              "    </tr>\n",
              "    <tr>\n",
              "      <th>1</th>\n",
              "      <td>3</td>\n",
              "      <td>4.28</td>\n",
              "      <td>5.88</td>\n",
              "      <td>6.84</td>\n",
              "      <td>NaN</td>\n",
              "      <td>NaN</td>\n",
              "      <td>NaN</td>\n",
              "      <td>NaN</td>\n",
              "      <td>NaN</td>\n",
              "    </tr>\n",
              "    <tr>\n",
              "      <th>2</th>\n",
              "      <td>4</td>\n",
              "      <td>3.97</td>\n",
              "      <td>3.20</td>\n",
              "      <td>2.70</td>\n",
              "      <td>NaN</td>\n",
              "      <td>NaN</td>\n",
              "      <td>NaN</td>\n",
              "      <td>NaN</td>\n",
              "      <td>NaN</td>\n",
              "    </tr>\n",
              "    <tr>\n",
              "      <th>3</th>\n",
              "      <td>5</td>\n",
              "      <td>5.95</td>\n",
              "      <td>7.70</td>\n",
              "      <td>7.06</td>\n",
              "      <td>NaN</td>\n",
              "      <td>NaN</td>\n",
              "      <td>NaN</td>\n",
              "      <td>NaN</td>\n",
              "      <td>NaN</td>\n",
              "    </tr>\n",
              "    <tr>\n",
              "      <th>4</th>\n",
              "      <td>6</td>\n",
              "      <td>4.70</td>\n",
              "      <td>5.50</td>\n",
              "      <td>5.30</td>\n",
              "      <td>NaN</td>\n",
              "      <td>NaN</td>\n",
              "      <td>NaN</td>\n",
              "      <td>NaN</td>\n",
              "      <td>NaN</td>\n",
              "    </tr>\n",
              "    <tr>\n",
              "      <th>...</th>\n",
              "      <td>...</td>\n",
              "      <td>...</td>\n",
              "      <td>...</td>\n",
              "      <td>...</td>\n",
              "      <td>...</td>\n",
              "      <td>...</td>\n",
              "      <td>...</td>\n",
              "      <td>...</td>\n",
              "      <td>...</td>\n",
              "    </tr>\n",
              "    <tr>\n",
              "      <th>142</th>\n",
              "      <td>208</td>\n",
              "      <td>2.20</td>\n",
              "      <td>5.00</td>\n",
              "      <td>5.80</td>\n",
              "      <td>NaN</td>\n",
              "      <td>NaN</td>\n",
              "      <td>NaN</td>\n",
              "      <td>NaN</td>\n",
              "      <td>NaN</td>\n",
              "    </tr>\n",
              "    <tr>\n",
              "      <th>143</th>\n",
              "      <td>211</td>\n",
              "      <td>5.60</td>\n",
              "      <td>8.00</td>\n",
              "      <td>8.00</td>\n",
              "      <td>NaN</td>\n",
              "      <td>NaN</td>\n",
              "      <td>NaN</td>\n",
              "      <td>NaN</td>\n",
              "      <td>NaN</td>\n",
              "    </tr>\n",
              "    <tr>\n",
              "      <th>144</th>\n",
              "      <td>212</td>\n",
              "      <td>6.00</td>\n",
              "      <td>6.80</td>\n",
              "      <td>7.20</td>\n",
              "      <td>NaN</td>\n",
              "      <td>NaN</td>\n",
              "      <td>NaN</td>\n",
              "      <td>NaN</td>\n",
              "      <td>NaN</td>\n",
              "    </tr>\n",
              "    <tr>\n",
              "      <th>145</th>\n",
              "      <td>213</td>\n",
              "      <td>8.00</td>\n",
              "      <td>5.20</td>\n",
              "      <td>7.80</td>\n",
              "      <td>NaN</td>\n",
              "      <td>NaN</td>\n",
              "      <td>NaN</td>\n",
              "      <td>NaN</td>\n",
              "      <td>NaN</td>\n",
              "    </tr>\n",
              "    <tr>\n",
              "      <th>146</th>\n",
              "      <td>214</td>\n",
              "      <td>3.10</td>\n",
              "      <td>3.40</td>\n",
              "      <td>4.10</td>\n",
              "      <td>NaN</td>\n",
              "      <td>NaN</td>\n",
              "      <td>NaN</td>\n",
              "      <td>NaN</td>\n",
              "      <td>NaN</td>\n",
              "    </tr>\n",
              "  </tbody>\n",
              "</table>\n",
              "<p>147 rows × 9 columns</p>\n",
              "</div>\n",
              "      <button class=\"colab-df-convert\" onclick=\"convertToInteractive('df-d0172ac4-39f2-4146-82b8-7251dec179f2')\"\n",
              "              title=\"Convert this dataframe to an interactive table.\"\n",
              "              style=\"display:none;\">\n",
              "        \n",
              "  <svg xmlns=\"http://www.w3.org/2000/svg\" height=\"24px\"viewBox=\"0 0 24 24\"\n",
              "       width=\"24px\">\n",
              "    <path d=\"M0 0h24v24H0V0z\" fill=\"none\"/>\n",
              "    <path d=\"M18.56 5.44l.94 2.06.94-2.06 2.06-.94-2.06-.94-.94-2.06-.94 2.06-2.06.94zm-11 1L8.5 8.5l.94-2.06 2.06-.94-2.06-.94L8.5 2.5l-.94 2.06-2.06.94zm10 10l.94 2.06.94-2.06 2.06-.94-2.06-.94-.94-2.06-.94 2.06-2.06.94z\"/><path d=\"M17.41 7.96l-1.37-1.37c-.4-.4-.92-.59-1.43-.59-.52 0-1.04.2-1.43.59L10.3 9.45l-7.72 7.72c-.78.78-.78 2.05 0 2.83L4 21.41c.39.39.9.59 1.41.59.51 0 1.02-.2 1.41-.59l7.78-7.78 2.81-2.81c.8-.78.8-2.07 0-2.86zM5.41 20L4 18.59l7.72-7.72 1.47 1.35L5.41 20z\"/>\n",
              "  </svg>\n",
              "      </button>\n",
              "      \n",
              "  <style>\n",
              "    .colab-df-container {\n",
              "      display:flex;\n",
              "      flex-wrap:wrap;\n",
              "      gap: 12px;\n",
              "    }\n",
              "\n",
              "    .colab-df-convert {\n",
              "      background-color: #E8F0FE;\n",
              "      border: none;\n",
              "      border-radius: 50%;\n",
              "      cursor: pointer;\n",
              "      display: none;\n",
              "      fill: #1967D2;\n",
              "      height: 32px;\n",
              "      padding: 0 0 0 0;\n",
              "      width: 32px;\n",
              "    }\n",
              "\n",
              "    .colab-df-convert:hover {\n",
              "      background-color: #E2EBFA;\n",
              "      box-shadow: 0px 1px 2px rgba(60, 64, 67, 0.3), 0px 1px 3px 1px rgba(60, 64, 67, 0.15);\n",
              "      fill: #174EA6;\n",
              "    }\n",
              "\n",
              "    [theme=dark] .colab-df-convert {\n",
              "      background-color: #3B4455;\n",
              "      fill: #D2E3FC;\n",
              "    }\n",
              "\n",
              "    [theme=dark] .colab-df-convert:hover {\n",
              "      background-color: #434B5C;\n",
              "      box-shadow: 0px 1px 3px 1px rgba(0, 0, 0, 0.15);\n",
              "      filter: drop-shadow(0px 1px 2px rgba(0, 0, 0, 0.3));\n",
              "      fill: #FFFFFF;\n",
              "    }\n",
              "  </style>\n",
              "\n",
              "      <script>\n",
              "        const buttonEl =\n",
              "          document.querySelector('#df-d0172ac4-39f2-4146-82b8-7251dec179f2 button.colab-df-convert');\n",
              "        buttonEl.style.display =\n",
              "          google.colab.kernel.accessAllowed ? 'block' : 'none';\n",
              "\n",
              "        async function convertToInteractive(key) {\n",
              "          const element = document.querySelector('#df-d0172ac4-39f2-4146-82b8-7251dec179f2');\n",
              "          const dataTable =\n",
              "            await google.colab.kernel.invokeFunction('convertToInteractive',\n",
              "                                                     [key], {});\n",
              "          if (!dataTable) return;\n",
              "\n",
              "          const docLinkHtml = 'Like what you see? Visit the ' +\n",
              "            '<a target=\"_blank\" href=https://colab.research.google.com/notebooks/data_table.ipynb>data table notebook</a>'\n",
              "            + ' to learn more about interactive tables.';\n",
              "          element.innerHTML = '';\n",
              "          dataTable['output_type'] = 'display_data';\n",
              "          await google.colab.output.renderOutput(dataTable, element);\n",
              "          const docLink = document.createElement('div');\n",
              "          docLink.innerHTML = docLinkHtml;\n",
              "          element.appendChild(docLink);\n",
              "        }\n",
              "      </script>\n",
              "    </div>\n",
              "  </div>\n",
              "  "
            ]
          },
          "metadata": {},
          "execution_count": 248
        }
      ]
    },
    {
      "cell_type": "code",
      "source": [
        "# print the train dataset\n",
        "\n",
        "dft"
      ],
      "metadata": {
        "colab": {
          "base_uri": "https://localhost:8080/",
          "height": 424
        },
        "id": "j6u6YoqVMCQO",
        "outputId": "95612440-caf3-4990-94a9-1d4a9fde0af3"
      },
      "execution_count": null,
      "outputs": [
        {
          "output_type": "execute_result",
          "data": {
            "text/plain": [
              "     Id     1     2     3    4     5    6     7\n",
              "0     1  6.80  5.40   NaN  NaN   NaN  NaN   NaN\n",
              "1     2  4.71  4.20   NaN  NaN   NaN  NaN   NaN\n",
              "2    32  2.10  3.40   NaN  NaN   NaN  NaN   NaN\n",
              "3    40  5.35  5.85   NaN  NaN   NaN  NaN   NaN\n",
              "4    43  4.80  5.30   NaN  NaN   NaN  NaN   NaN\n",
              "..  ...   ...   ...   ...  ...   ...  ...   ...\n",
              "58  206  5.80  6.60  1.75  5.3  15.1  4.6  15.6\n",
              "59  209  3.68  4.85   NaN  NaN   NaN  NaN   NaN\n",
              "60  210  7.50  4.80   NaN  NaN   NaN  NaN   NaN\n",
              "61  215  8.00  6.80   NaN  NaN   NaN  NaN   NaN\n",
              "62  216  4.00  5.00   NaN  NaN   NaN  NaN   NaN\n",
              "\n",
              "[63 rows x 8 columns]"
            ],
            "text/html": [
              "\n",
              "  <div id=\"df-01a31141-f6be-4906-b539-3ffa60912aa9\">\n",
              "    <div class=\"colab-df-container\">\n",
              "      <div>\n",
              "<style scoped>\n",
              "    .dataframe tbody tr th:only-of-type {\n",
              "        vertical-align: middle;\n",
              "    }\n",
              "\n",
              "    .dataframe tbody tr th {\n",
              "        vertical-align: top;\n",
              "    }\n",
              "\n",
              "    .dataframe thead th {\n",
              "        text-align: right;\n",
              "    }\n",
              "</style>\n",
              "<table border=\"1\" class=\"dataframe\">\n",
              "  <thead>\n",
              "    <tr style=\"text-align: right;\">\n",
              "      <th></th>\n",
              "      <th>Id</th>\n",
              "      <th>1</th>\n",
              "      <th>2</th>\n",
              "      <th>3</th>\n",
              "      <th>4</th>\n",
              "      <th>5</th>\n",
              "      <th>6</th>\n",
              "      <th>7</th>\n",
              "    </tr>\n",
              "  </thead>\n",
              "  <tbody>\n",
              "    <tr>\n",
              "      <th>0</th>\n",
              "      <td>1</td>\n",
              "      <td>6.80</td>\n",
              "      <td>5.40</td>\n",
              "      <td>NaN</td>\n",
              "      <td>NaN</td>\n",
              "      <td>NaN</td>\n",
              "      <td>NaN</td>\n",
              "      <td>NaN</td>\n",
              "    </tr>\n",
              "    <tr>\n",
              "      <th>1</th>\n",
              "      <td>2</td>\n",
              "      <td>4.71</td>\n",
              "      <td>4.20</td>\n",
              "      <td>NaN</td>\n",
              "      <td>NaN</td>\n",
              "      <td>NaN</td>\n",
              "      <td>NaN</td>\n",
              "      <td>NaN</td>\n",
              "    </tr>\n",
              "    <tr>\n",
              "      <th>2</th>\n",
              "      <td>32</td>\n",
              "      <td>2.10</td>\n",
              "      <td>3.40</td>\n",
              "      <td>NaN</td>\n",
              "      <td>NaN</td>\n",
              "      <td>NaN</td>\n",
              "      <td>NaN</td>\n",
              "      <td>NaN</td>\n",
              "    </tr>\n",
              "    <tr>\n",
              "      <th>3</th>\n",
              "      <td>40</td>\n",
              "      <td>5.35</td>\n",
              "      <td>5.85</td>\n",
              "      <td>NaN</td>\n",
              "      <td>NaN</td>\n",
              "      <td>NaN</td>\n",
              "      <td>NaN</td>\n",
              "      <td>NaN</td>\n",
              "    </tr>\n",
              "    <tr>\n",
              "      <th>4</th>\n",
              "      <td>43</td>\n",
              "      <td>4.80</td>\n",
              "      <td>5.30</td>\n",
              "      <td>NaN</td>\n",
              "      <td>NaN</td>\n",
              "      <td>NaN</td>\n",
              "      <td>NaN</td>\n",
              "      <td>NaN</td>\n",
              "    </tr>\n",
              "    <tr>\n",
              "      <th>...</th>\n",
              "      <td>...</td>\n",
              "      <td>...</td>\n",
              "      <td>...</td>\n",
              "      <td>...</td>\n",
              "      <td>...</td>\n",
              "      <td>...</td>\n",
              "      <td>...</td>\n",
              "      <td>...</td>\n",
              "    </tr>\n",
              "    <tr>\n",
              "      <th>58</th>\n",
              "      <td>206</td>\n",
              "      <td>5.80</td>\n",
              "      <td>6.60</td>\n",
              "      <td>1.75</td>\n",
              "      <td>5.3</td>\n",
              "      <td>15.1</td>\n",
              "      <td>4.6</td>\n",
              "      <td>15.6</td>\n",
              "    </tr>\n",
              "    <tr>\n",
              "      <th>59</th>\n",
              "      <td>209</td>\n",
              "      <td>3.68</td>\n",
              "      <td>4.85</td>\n",
              "      <td>NaN</td>\n",
              "      <td>NaN</td>\n",
              "      <td>NaN</td>\n",
              "      <td>NaN</td>\n",
              "      <td>NaN</td>\n",
              "    </tr>\n",
              "    <tr>\n",
              "      <th>60</th>\n",
              "      <td>210</td>\n",
              "      <td>7.50</td>\n",
              "      <td>4.80</td>\n",
              "      <td>NaN</td>\n",
              "      <td>NaN</td>\n",
              "      <td>NaN</td>\n",
              "      <td>NaN</td>\n",
              "      <td>NaN</td>\n",
              "    </tr>\n",
              "    <tr>\n",
              "      <th>61</th>\n",
              "      <td>215</td>\n",
              "      <td>8.00</td>\n",
              "      <td>6.80</td>\n",
              "      <td>NaN</td>\n",
              "      <td>NaN</td>\n",
              "      <td>NaN</td>\n",
              "      <td>NaN</td>\n",
              "      <td>NaN</td>\n",
              "    </tr>\n",
              "    <tr>\n",
              "      <th>62</th>\n",
              "      <td>216</td>\n",
              "      <td>4.00</td>\n",
              "      <td>5.00</td>\n",
              "      <td>NaN</td>\n",
              "      <td>NaN</td>\n",
              "      <td>NaN</td>\n",
              "      <td>NaN</td>\n",
              "      <td>NaN</td>\n",
              "    </tr>\n",
              "  </tbody>\n",
              "</table>\n",
              "<p>63 rows × 8 columns</p>\n",
              "</div>\n",
              "      <button class=\"colab-df-convert\" onclick=\"convertToInteractive('df-01a31141-f6be-4906-b539-3ffa60912aa9')\"\n",
              "              title=\"Convert this dataframe to an interactive table.\"\n",
              "              style=\"display:none;\">\n",
              "        \n",
              "  <svg xmlns=\"http://www.w3.org/2000/svg\" height=\"24px\"viewBox=\"0 0 24 24\"\n",
              "       width=\"24px\">\n",
              "    <path d=\"M0 0h24v24H0V0z\" fill=\"none\"/>\n",
              "    <path d=\"M18.56 5.44l.94 2.06.94-2.06 2.06-.94-2.06-.94-.94-2.06-.94 2.06-2.06.94zm-11 1L8.5 8.5l.94-2.06 2.06-.94-2.06-.94L8.5 2.5l-.94 2.06-2.06.94zm10 10l.94 2.06.94-2.06 2.06-.94-2.06-.94-.94-2.06-.94 2.06-2.06.94z\"/><path d=\"M17.41 7.96l-1.37-1.37c-.4-.4-.92-.59-1.43-.59-.52 0-1.04.2-1.43.59L10.3 9.45l-7.72 7.72c-.78.78-.78 2.05 0 2.83L4 21.41c.39.39.9.59 1.41.59.51 0 1.02-.2 1.41-.59l7.78-7.78 2.81-2.81c.8-.78.8-2.07 0-2.86zM5.41 20L4 18.59l7.72-7.72 1.47 1.35L5.41 20z\"/>\n",
              "  </svg>\n",
              "      </button>\n",
              "      \n",
              "  <style>\n",
              "    .colab-df-container {\n",
              "      display:flex;\n",
              "      flex-wrap:wrap;\n",
              "      gap: 12px;\n",
              "    }\n",
              "\n",
              "    .colab-df-convert {\n",
              "      background-color: #E8F0FE;\n",
              "      border: none;\n",
              "      border-radius: 50%;\n",
              "      cursor: pointer;\n",
              "      display: none;\n",
              "      fill: #1967D2;\n",
              "      height: 32px;\n",
              "      padding: 0 0 0 0;\n",
              "      width: 32px;\n",
              "    }\n",
              "\n",
              "    .colab-df-convert:hover {\n",
              "      background-color: #E2EBFA;\n",
              "      box-shadow: 0px 1px 2px rgba(60, 64, 67, 0.3), 0px 1px 3px 1px rgba(60, 64, 67, 0.15);\n",
              "      fill: #174EA6;\n",
              "    }\n",
              "\n",
              "    [theme=dark] .colab-df-convert {\n",
              "      background-color: #3B4455;\n",
              "      fill: #D2E3FC;\n",
              "    }\n",
              "\n",
              "    [theme=dark] .colab-df-convert:hover {\n",
              "      background-color: #434B5C;\n",
              "      box-shadow: 0px 1px 3px 1px rgba(0, 0, 0, 0.15);\n",
              "      filter: drop-shadow(0px 1px 2px rgba(0, 0, 0, 0.3));\n",
              "      fill: #FFFFFF;\n",
              "    }\n",
              "  </style>\n",
              "\n",
              "      <script>\n",
              "        const buttonEl =\n",
              "          document.querySelector('#df-01a31141-f6be-4906-b539-3ffa60912aa9 button.colab-df-convert');\n",
              "        buttonEl.style.display =\n",
              "          google.colab.kernel.accessAllowed ? 'block' : 'none';\n",
              "\n",
              "        async function convertToInteractive(key) {\n",
              "          const element = document.querySelector('#df-01a31141-f6be-4906-b539-3ffa60912aa9');\n",
              "          const dataTable =\n",
              "            await google.colab.kernel.invokeFunction('convertToInteractive',\n",
              "                                                     [key], {});\n",
              "          if (!dataTable) return;\n",
              "\n",
              "          const docLinkHtml = 'Like what you see? Visit the ' +\n",
              "            '<a target=\"_blank\" href=https://colab.research.google.com/notebooks/data_table.ipynb>data table notebook</a>'\n",
              "            + ' to learn more about interactive tables.';\n",
              "          element.innerHTML = '';\n",
              "          dataTable['output_type'] = 'display_data';\n",
              "          await google.colab.output.renderOutput(dataTable, element);\n",
              "          const docLink = document.createElement('div');\n",
              "          docLink.innerHTML = docLinkHtml;\n",
              "          element.appendChild(docLink);\n",
              "        }\n",
              "      </script>\n",
              "    </div>\n",
              "  </div>\n",
              "  "
            ]
          },
          "metadata": {},
          "execution_count": 249
        }
      ]
    },
    {
      "cell_type": "markdown",
      "source": [
        "# EDA"
      ],
      "metadata": {
        "id": "QLjRI1SWjN6k"
      }
    },
    {
      "cell_type": "markdown",
      "source": [
        "### Data research"
      ],
      "metadata": {
        "id": "DlgPsglJjGip"
      }
    },
    {
      "cell_type": "code",
      "source": [
        "# checking the shape of train dataset\n",
        "\n",
        "df.shape"
      ],
      "metadata": {
        "colab": {
          "base_uri": "https://localhost:8080/"
        },
        "id": "lRtkFmSpi4Td",
        "outputId": "d33f937e-9925-4ec5-d885-a0d6e7ffe541"
      },
      "execution_count": null,
      "outputs": [
        {
          "output_type": "execute_result",
          "data": {
            "text/plain": [
              "(147, 9)"
            ]
          },
          "metadata": {},
          "execution_count": 250
        }
      ]
    },
    {
      "cell_type": "code",
      "source": [
        "# checking the shape of test dataset\n",
        "\n",
        "dft.shape"
      ],
      "metadata": {
        "colab": {
          "base_uri": "https://localhost:8080/"
        },
        "outputId": "767b8f26-374c-457e-da76-4043aece61be",
        "id": "-oSwNCvzMN6W"
      },
      "execution_count": null,
      "outputs": [
        {
          "output_type": "execute_result",
          "data": {
            "text/plain": [
              "(63, 8)"
            ]
          },
          "metadata": {},
          "execution_count": 251
        }
      ]
    },
    {
      "cell_type": "code",
      "source": [
        "# checking the columns of train dataset\n",
        "\n",
        "df.columns"
      ],
      "metadata": {
        "colab": {
          "base_uri": "https://localhost:8080/"
        },
        "id": "KTxjvltRjWp9",
        "outputId": "e88850d2-bb93-4c5e-a922-55c99769cfca"
      },
      "execution_count": null,
      "outputs": [
        {
          "output_type": "execute_result",
          "data": {
            "text/plain": [
              "Index(['Id', 'target', '1', '2', '3', '4', '5', '6', '7'], dtype='object')"
            ]
          },
          "metadata": {},
          "execution_count": 252
        }
      ]
    },
    {
      "cell_type": "code",
      "source": [
        "# checking the columns of test dataset\n",
        "\n",
        "dft.columns"
      ],
      "metadata": {
        "colab": {
          "base_uri": "https://localhost:8080/"
        },
        "id": "i0s070KkMRjt",
        "outputId": "2dce41a9-accd-4307-e3df-d7c5b7161b7c"
      },
      "execution_count": null,
      "outputs": [
        {
          "output_type": "execute_result",
          "data": {
            "text/plain": [
              "Index(['Id', '1', '2', '3', '4', '5', '6', '7'], dtype='object')"
            ]
          },
          "metadata": {},
          "execution_count": 253
        }
      ]
    },
    {
      "cell_type": "code",
      "source": [
        "# checking the datatypes of columns of train dataset\n",
        "\n",
        "df.dtypes"
      ],
      "metadata": {
        "colab": {
          "base_uri": "https://localhost:8080/"
        },
        "id": "5ftJlOdkjaON",
        "outputId": "61f82ba1-b621-42d5-8e8e-cfc0ed6a8d63"
      },
      "execution_count": null,
      "outputs": [
        {
          "output_type": "execute_result",
          "data": {
            "text/plain": [
              "Id          int64\n",
              "target    float64\n",
              "1         float64\n",
              "2         float64\n",
              "3         float64\n",
              "4         float64\n",
              "5         float64\n",
              "6         float64\n",
              "7         float64\n",
              "dtype: object"
            ]
          },
          "metadata": {},
          "execution_count": 254
        }
      ]
    },
    {
      "cell_type": "code",
      "source": [
        "# checking the datatypes of columns of test dataset\n",
        "\n",
        "dft.dtypes"
      ],
      "metadata": {
        "colab": {
          "base_uri": "https://localhost:8080/"
        },
        "id": "_1gMErIyMYaG",
        "outputId": "c6d692d9-5f1e-412c-c717-5587119d5b77"
      },
      "execution_count": null,
      "outputs": [
        {
          "output_type": "execute_result",
          "data": {
            "text/plain": [
              "Id      int64\n",
              "1     float64\n",
              "2     float64\n",
              "3     float64\n",
              "4     float64\n",
              "5     float64\n",
              "6     float64\n",
              "7     float64\n",
              "dtype: object"
            ]
          },
          "metadata": {},
          "execution_count": 255
        }
      ]
    },
    {
      "cell_type": "code",
      "source": [
        "# checking the unique values of columns of train dataset\n",
        "\n",
        "df.nunique()"
      ],
      "metadata": {
        "colab": {
          "base_uri": "https://localhost:8080/"
        },
        "id": "AeBOfbIdjknd",
        "outputId": "a6b607c4-226f-4fab-8010-c2319b737ff0"
      },
      "execution_count": null,
      "outputs": [
        {
          "output_type": "execute_result",
          "data": {
            "text/plain": [
              "Id        147\n",
              "target     97\n",
              "1         100\n",
              "2          96\n",
              "3          28\n",
              "4          28\n",
              "5          29\n",
              "6          31\n",
              "7          32\n",
              "dtype: int64"
            ]
          },
          "metadata": {},
          "execution_count": 256
        }
      ]
    },
    {
      "cell_type": "code",
      "source": [
        "# checking the unique values of columns of test dataset\n",
        "\n",
        "dft.nunique()"
      ],
      "metadata": {
        "colab": {
          "base_uri": "https://localhost:8080/"
        },
        "id": "2DIZrIN7Mdaz",
        "outputId": "e100569b-04fb-468a-f3ae-34518210acd5"
      },
      "execution_count": null,
      "outputs": [
        {
          "output_type": "execute_result",
          "data": {
            "text/plain": [
              "Id    63\n",
              "1     50\n",
              "2     46\n",
              "3     15\n",
              "4     15\n",
              "5     16\n",
              "6     13\n",
              "7     14\n",
              "dtype: int64"
            ]
          },
          "metadata": {},
          "execution_count": 257
        }
      ]
    },
    {
      "cell_type": "code",
      "source": [
        "# checking the missing values in train dataset\n",
        "\n",
        "df.isna().sum()"
      ],
      "metadata": {
        "colab": {
          "base_uri": "https://localhost:8080/"
        },
        "id": "hAzfMknFjeft",
        "outputId": "5d12a936-82e1-44bf-8b8d-1aaf2f668f8d"
      },
      "execution_count": null,
      "outputs": [
        {
          "output_type": "execute_result",
          "data": {
            "text/plain": [
              "Id          0\n",
              "target      0\n",
              "1           2\n",
              "2           2\n",
              "3         115\n",
              "4         116\n",
              "5         114\n",
              "6         110\n",
              "7         110\n",
              "dtype: int64"
            ]
          },
          "metadata": {},
          "execution_count": 258
        }
      ]
    },
    {
      "cell_type": "code",
      "source": [
        "# checking the missing values in test dataset\n",
        "\n",
        "dft.isna().sum()"
      ],
      "metadata": {
        "colab": {
          "base_uri": "https://localhost:8080/"
        },
        "id": "j27pT-8HMiSz",
        "outputId": "1d541610-ae8d-4494-cd22-704e709a338c"
      },
      "execution_count": null,
      "outputs": [
        {
          "output_type": "execute_result",
          "data": {
            "text/plain": [
              "Id     0\n",
              "1      0\n",
              "2      0\n",
              "3     48\n",
              "4     48\n",
              "5     47\n",
              "6     49\n",
              "7     49\n",
              "dtype: int64"
            ]
          },
          "metadata": {},
          "execution_count": 259
        }
      ]
    },
    {
      "cell_type": "code",
      "source": [
        "# checking the percentage of missing values in train dataset\n",
        "\n",
        "for i in ['1', '2', '3', '4', '5', '6', '7']:\n",
        "  nan_val_perc = (df[i].isna().sum()/df.index.size)*100\n",
        "  print(\"In column\", i, \"-\", round(nan_val_perc,2),\"%\")"
      ],
      "metadata": {
        "colab": {
          "base_uri": "https://localhost:8080/"
        },
        "id": "1RxQaxCRjpys",
        "outputId": "003cffa9-b6ac-47e7-db12-e80d5eb43ed5"
      },
      "execution_count": null,
      "outputs": [
        {
          "output_type": "stream",
          "name": "stdout",
          "text": [
            "In column 1 - 1.36 %\n",
            "In column 2 - 1.36 %\n",
            "In column 3 - 78.23 %\n",
            "In column 4 - 78.91 %\n",
            "In column 5 - 77.55 %\n",
            "In column 6 - 74.83 %\n",
            "In column 7 - 74.83 %\n"
          ]
        }
      ]
    },
    {
      "cell_type": "code",
      "source": [
        "# checking the percentage of missing values in test dataset\n",
        "\n",
        "for i in ['1', '2', '3', '4', '5', '6', '7']:\n",
        "  nan_val_perc = (dft[i].isna().sum()/dft.index.size)*100\n",
        "  print(\"In column\", i, \"-\", round(nan_val_perc,2),\"%\")"
      ],
      "metadata": {
        "id": "6b4uUNFVlXrs",
        "colab": {
          "base_uri": "https://localhost:8080/"
        },
        "outputId": "ac0f5190-5f60-450d-ad2b-81ea1146d0f4"
      },
      "execution_count": null,
      "outputs": [
        {
          "output_type": "stream",
          "name": "stdout",
          "text": [
            "In column 1 - 0.0 %\n",
            "In column 2 - 0.0 %\n",
            "In column 3 - 76.19 %\n",
            "In column 4 - 76.19 %\n",
            "In column 5 - 74.6 %\n",
            "In column 6 - 77.78 %\n",
            "In column 7 - 77.78 %\n"
          ]
        }
      ]
    },
    {
      "cell_type": "markdown",
      "source": [
        "### Univariate analysis"
      ],
      "metadata": {
        "id": "hqhOX1UamlYC"
      }
    },
    {
      "cell_type": "code",
      "source": [
        "# ploting distribution of all the columns of train dataset\n",
        "\n",
        "features = ['target', '1',\t'2',\t'3',\t'4',\t'5',\t'6',\t'7']\n",
        "for i in range(2):\n",
        "    fig, ax = plt.subplots(nrows = 2,ncols = 4,figsize = (10,3))\n",
        "    a = 1\n",
        "    for j in features[(i*4) : (i*4) + 4]:\n",
        "        plt.subplot(1,4,a)\n",
        "        sns.distplot(df[j]);\n",
        "        plt.title('Distribution : ' + j)\n",
        "        a += 1\n",
        "plt.show()"
      ],
      "metadata": {
        "colab": {
          "base_uri": "https://localhost:8080/"
        },
        "id": "kOXDsfyhmkC1",
        "outputId": "fbe7fda5-ede7-432f-debb-5372daafbee4"
      },
      "execution_count": null,
      "outputs": [
        {
          "output_type": "stream",
          "name": "stderr",
          "text": [
            "<ipython-input-262-b1388e010897>:8: MatplotlibDeprecationWarning: Auto-removal of overlapping axes is deprecated since 3.6 and will be removed two minor releases later; explicitly call ax.remove() as needed.\n",
            "  plt.subplot(1,4,a)\n",
            "<ipython-input-262-b1388e010897>:9: UserWarning: \n",
            "\n",
            "`distplot` is a deprecated function and will be removed in seaborn v0.14.0.\n",
            "\n",
            "Please adapt your code to use either `displot` (a figure-level function with\n",
            "similar flexibility) or `histplot` (an axes-level function for histograms).\n",
            "\n",
            "For a guide to updating your code to use the new functions, please see\n",
            "https://gist.github.com/mwaskom/de44147ed2974457ad6372750bbe5751\n",
            "\n",
            "  sns.distplot(df[j]);\n",
            "<ipython-input-262-b1388e010897>:8: MatplotlibDeprecationWarning: Auto-removal of overlapping axes is deprecated since 3.6 and will be removed two minor releases later; explicitly call ax.remove() as needed.\n",
            "  plt.subplot(1,4,a)\n",
            "<ipython-input-262-b1388e010897>:9: UserWarning: \n",
            "\n",
            "`distplot` is a deprecated function and will be removed in seaborn v0.14.0.\n",
            "\n",
            "Please adapt your code to use either `displot` (a figure-level function with\n",
            "similar flexibility) or `histplot` (an axes-level function for histograms).\n",
            "\n",
            "For a guide to updating your code to use the new functions, please see\n",
            "https://gist.github.com/mwaskom/de44147ed2974457ad6372750bbe5751\n",
            "\n",
            "  sns.distplot(df[j]);\n",
            "<ipython-input-262-b1388e010897>:8: MatplotlibDeprecationWarning: Auto-removal of overlapping axes is deprecated since 3.6 and will be removed two minor releases later; explicitly call ax.remove() as needed.\n",
            "  plt.subplot(1,4,a)\n",
            "<ipython-input-262-b1388e010897>:9: UserWarning: \n",
            "\n",
            "`distplot` is a deprecated function and will be removed in seaborn v0.14.0.\n",
            "\n",
            "Please adapt your code to use either `displot` (a figure-level function with\n",
            "similar flexibility) or `histplot` (an axes-level function for histograms).\n",
            "\n",
            "For a guide to updating your code to use the new functions, please see\n",
            "https://gist.github.com/mwaskom/de44147ed2974457ad6372750bbe5751\n",
            "\n",
            "  sns.distplot(df[j]);\n",
            "<ipython-input-262-b1388e010897>:8: MatplotlibDeprecationWarning: Auto-removal of overlapping axes is deprecated since 3.6 and will be removed two minor releases later; explicitly call ax.remove() as needed.\n",
            "  plt.subplot(1,4,a)\n",
            "<ipython-input-262-b1388e010897>:9: UserWarning: \n",
            "\n",
            "`distplot` is a deprecated function and will be removed in seaborn v0.14.0.\n",
            "\n",
            "Please adapt your code to use either `displot` (a figure-level function with\n",
            "similar flexibility) or `histplot` (an axes-level function for histograms).\n",
            "\n",
            "For a guide to updating your code to use the new functions, please see\n",
            "https://gist.github.com/mwaskom/de44147ed2974457ad6372750bbe5751\n",
            "\n",
            "  sns.distplot(df[j]);\n",
            "<ipython-input-262-b1388e010897>:8: MatplotlibDeprecationWarning: Auto-removal of overlapping axes is deprecated since 3.6 and will be removed two minor releases later; explicitly call ax.remove() as needed.\n",
            "  plt.subplot(1,4,a)\n",
            "<ipython-input-262-b1388e010897>:9: UserWarning: \n",
            "\n",
            "`distplot` is a deprecated function and will be removed in seaborn v0.14.0.\n",
            "\n",
            "Please adapt your code to use either `displot` (a figure-level function with\n",
            "similar flexibility) or `histplot` (an axes-level function for histograms).\n",
            "\n",
            "For a guide to updating your code to use the new functions, please see\n",
            "https://gist.github.com/mwaskom/de44147ed2974457ad6372750bbe5751\n",
            "\n",
            "  sns.distplot(df[j]);\n",
            "<ipython-input-262-b1388e010897>:8: MatplotlibDeprecationWarning: Auto-removal of overlapping axes is deprecated since 3.6 and will be removed two minor releases later; explicitly call ax.remove() as needed.\n",
            "  plt.subplot(1,4,a)\n",
            "<ipython-input-262-b1388e010897>:9: UserWarning: \n",
            "\n",
            "`distplot` is a deprecated function and will be removed in seaborn v0.14.0.\n",
            "\n",
            "Please adapt your code to use either `displot` (a figure-level function with\n",
            "similar flexibility) or `histplot` (an axes-level function for histograms).\n",
            "\n",
            "For a guide to updating your code to use the new functions, please see\n",
            "https://gist.github.com/mwaskom/de44147ed2974457ad6372750bbe5751\n",
            "\n",
            "  sns.distplot(df[j]);\n",
            "<ipython-input-262-b1388e010897>:8: MatplotlibDeprecationWarning: Auto-removal of overlapping axes is deprecated since 3.6 and will be removed two minor releases later; explicitly call ax.remove() as needed.\n",
            "  plt.subplot(1,4,a)\n",
            "<ipython-input-262-b1388e010897>:9: UserWarning: \n",
            "\n",
            "`distplot` is a deprecated function and will be removed in seaborn v0.14.0.\n",
            "\n",
            "Please adapt your code to use either `displot` (a figure-level function with\n",
            "similar flexibility) or `histplot` (an axes-level function for histograms).\n",
            "\n",
            "For a guide to updating your code to use the new functions, please see\n",
            "https://gist.github.com/mwaskom/de44147ed2974457ad6372750bbe5751\n",
            "\n",
            "  sns.distplot(df[j]);\n",
            "<ipython-input-262-b1388e010897>:8: MatplotlibDeprecationWarning: Auto-removal of overlapping axes is deprecated since 3.6 and will be removed two minor releases later; explicitly call ax.remove() as needed.\n",
            "  plt.subplot(1,4,a)\n",
            "<ipython-input-262-b1388e010897>:9: UserWarning: \n",
            "\n",
            "`distplot` is a deprecated function and will be removed in seaborn v0.14.0.\n",
            "\n",
            "Please adapt your code to use either `displot` (a figure-level function with\n",
            "similar flexibility) or `histplot` (an axes-level function for histograms).\n",
            "\n",
            "For a guide to updating your code to use the new functions, please see\n",
            "https://gist.github.com/mwaskom/de44147ed2974457ad6372750bbe5751\n",
            "\n",
            "  sns.distplot(df[j]);\n"
          ]
        },
        {
          "output_type": "display_data",
          "data": {
            "text/plain": [
              "<Figure size 1000x300 with 4 Axes>"
            ],
            "image/png": "[encoded data removed]"
          },
          "metadata": {}
        },
        {
          "output_type": "display_data",
          "data": {
            "text/plain": [
              "<Figure size 1000x300 with 4 Axes>"
            ],
            "image/png": "[encoded data removed]"
          },
          "metadata": {}
        }
      ]
    },
    {
      "cell_type": "code",
      "source": [],
      "metadata": {
        "id": "A8u-h4jrrbSG"
      },
      "execution_count": null,
      "outputs": []
    },
    {
      "cell_type": "markdown",
      "source": [
        "### Multivariate analysis"
      ],
      "metadata": {
        "id": "ccXgPW1Fysq8"
      }
    },
    {
      "cell_type": "code",
      "source": [
        "# ploting scatter plot of column '1' vs target\n",
        "\n",
        "plt.scatter(x = df['1'], y = df['target'])\n",
        "plt.show()"
      ],
      "metadata": {
        "colab": {
          "base_uri": "https://localhost:8080/"
        },
        "id": "U9m6iCloxzMT",
        "outputId": "ee1df2aa-31e8-43e6-de70-8ddce99e2a02"
      },
      "execution_count": null,
      "outputs": [
        {
          "output_type": "display_data",
          "data": {
            "text/plain": [
              "<Figure size 640x480 with 1 Axes>"
            ],
            "image/png": "[encoded data removed]"
          },
          "metadata": {}
        }
      ]
    },
    {
      "cell_type": "code",
      "source": [
        "# ploting scatter plot of column '2' vs target\n",
        "\n",
        "plt.scatter(x = df['2'], y = df['target'])\n",
        "plt.show()"
      ],
      "metadata": {
        "colab": {
          "base_uri": "https://localhost:8080/"
        },
        "id": "kBS7Bx1Ky1NT",
        "outputId": "15ce7931-9979-4929-804d-8eafbdbd24c4"
      },
      "execution_count": null,
      "outputs": [
        {
          "output_type": "display_data",
          "data": {
            "text/plain": [
              "<Figure size 640x480 with 1 Axes>"
            ],
            "image/png": "[encoded data removed]"
          },
          "metadata": {}
        }
      ]
    },
    {
      "cell_type": "code",
      "source": [
        "# checking the correlation between the independent and target variables\n",
        "\n",
        "df[['target', '1',\t'2',\t'3',\t'4',\t'5',\t'6',\t'7']].corr()\n",
        "# correlation value between -1 and -0.5 signifies high negative correlation or inverse relationship\n",
        "# correlation value between -0.5 and 0.5 signifies no correlation\n",
        "# correlation value between 0.5 and 1 signifies high positive correlation or proportional relationship\n",
        "\n",
        "# correlation value between -1 and -0.8 signifies high negative correlation or inverse relationship\n",
        "# correlation value between -0.8 and 0.8 signifies no correlation\n",
        "# correlation value between 0.8 and 1 signifies high positive correlation or proportional relationship"
      ],
      "metadata": {
        "colab": {
          "base_uri": "https://localhost:8080/"
        },
        "id": "Le30Dwlu2UWf",
        "outputId": "d3ddea4b-55d6-4b34-844b-d3718ada382c"
      },
      "execution_count": null,
      "outputs": [
        {
          "output_type": "execute_result",
          "data": {
            "text/plain": [
              "          target         1         2         3         4         5         6  \\\n",
              "target  1.000000  0.762797  0.645750 -0.081867 -0.240687 -0.025463 -0.029243   \n",
              "1       0.762797  1.000000  0.735809 -0.045895 -0.225394  0.040384 -0.066519   \n",
              "2       0.645750  0.735809  1.000000  0.047233 -0.223488 -0.115455 -0.038683   \n",
              "3      -0.081867 -0.045895  0.047233  1.000000  0.369179  0.043051  0.494418   \n",
              "4      -0.240687 -0.225394 -0.223488  0.369179  1.000000  0.696659  0.209342   \n",
              "5      -0.025463  0.040384 -0.115455  0.043051  0.696659  1.000000  0.271829   \n",
              "6      -0.029243 -0.066519 -0.038683  0.494418  0.209342  0.271829  1.000000   \n",
              "7       0.001260 -0.068133 -0.138312  0.648072  0.255105  0.277095  0.700161   \n",
              "\n",
              "               7  \n",
              "target  0.001260  \n",
              "1      -0.068133  \n",
              "2      -0.138312  \n",
              "3       0.648072  \n",
              "4       0.255105  \n",
              "5       0.277095  \n",
              "6       0.700161  \n",
              "7       1.000000  "
            ],
            "text/html": [
              "\n",
              "  <div id=\"df-e7a3c707-c576-4458-8964-79bf9ad1a195\">\n",
              "    <div class=\"colab-df-container\">\n",
              "      <div>\n",
              "<style scoped>\n",
              "    .dataframe tbody tr th:only-of-type {\n",
              "        vertical-align: middle;\n",
              "    }\n",
              "\n",
              "    .dataframe tbody tr th {\n",
              "        vertical-align: top;\n",
              "    }\n",
              "\n",
              "    .dataframe thead th {\n",
              "        text-align: right;\n",
              "    }\n",
              "</style>\n",
              "<table border=\"1\" class=\"dataframe\">\n",
              "  <thead>\n",
              "    <tr style=\"text-align: right;\">\n",
              "      <th></th>\n",
              "      <th>target</th>\n",
              "      <th>1</th>\n",
              "      <th>2</th>\n",
              "      <th>3</th>\n",
              "      <th>4</th>\n",
              "      <th>5</th>\n",
              "      <th>6</th>\n",
              "      <th>7</th>\n",
              "    </tr>\n",
              "  </thead>\n",
              "  <tbody>\n",
              "    <tr>\n",
              "      <th>target</th>\n",
              "      <td>1.000000</td>\n",
              "      <td>0.762797</td>\n",
              "      <td>0.645750</td>\n",
              "      <td>-0.081867</td>\n",
              "      <td>-0.240687</td>\n",
              "      <td>-0.025463</td>\n",
              "      <td>-0.029243</td>\n",
              "      <td>0.001260</td>\n",
              "    </tr>\n",
              "    <tr>\n",
              "      <th>1</th>\n",
              "      <td>0.762797</td>\n",
              "      <td>1.000000</td>\n",
              "      <td>0.735809</td>\n",
              "      <td>-0.045895</td>\n",
              "      <td>-0.225394</td>\n",
              "      <td>0.040384</td>\n",
              "      <td>-0.066519</td>\n",
              "      <td>-0.068133</td>\n",
              "    </tr>\n",
              "    <tr>\n",
              "      <th>2</th>\n",
              "      <td>0.645750</td>\n",
              "      <td>0.735809</td>\n",
              "      <td>1.000000</td>\n",
              "      <td>0.047233</td>\n",
              "      <td>-0.223488</td>\n",
              "      <td>-0.115455</td>\n",
              "      <td>-0.038683</td>\n",
              "      <td>-0.138312</td>\n",
              "    </tr>\n",
              "    <tr>\n",
              "      <th>3</th>\n",
              "      <td>-0.081867</td>\n",
              "      <td>-0.045895</td>\n",
              "      <td>0.047233</td>\n",
              "      <td>1.000000</td>\n",
              "      <td>0.369179</td>\n",
              "      <td>0.043051</td>\n",
              "      <td>0.494418</td>\n",
              "      <td>0.648072</td>\n",
              "    </tr>\n",
              "    <tr>\n",
              "      <th>4</th>\n",
              "      <td>-0.240687</td>\n",
              "      <td>-0.225394</td>\n",
              "      <td>-0.223488</td>\n",
              "      <td>0.369179</td>\n",
              "      <td>1.000000</td>\n",
              "      <td>0.696659</td>\n",
              "      <td>0.209342</td>\n",
              "      <td>0.255105</td>\n",
              "    </tr>\n",
              "    <tr>\n",
              "      <th>5</th>\n",
              "      <td>-0.025463</td>\n",
              "      <td>0.040384</td>\n",
              "      <td>-0.115455</td>\n",
              "      <td>0.043051</td>\n",
              "      <td>0.696659</td>\n",
              "      <td>1.000000</td>\n",
              "      <td>0.271829</td>\n",
              "      <td>0.277095</td>\n",
              "    </tr>\n",
              "    <tr>\n",
              "      <th>6</th>\n",
              "      <td>-0.029243</td>\n",
              "      <td>-0.066519</td>\n",
              "      <td>-0.038683</td>\n",
              "      <td>0.494418</td>\n",
              "      <td>0.209342</td>\n",
              "      <td>0.271829</td>\n",
              "      <td>1.000000</td>\n",
              "      <td>0.700161</td>\n",
              "    </tr>\n",
              "    <tr>\n",
              "      <th>7</th>\n",
              "      <td>0.001260</td>\n",
              "      <td>-0.068133</td>\n",
              "      <td>-0.138312</td>\n",
              "      <td>0.648072</td>\n",
              "      <td>0.255105</td>\n",
              "      <td>0.277095</td>\n",
              "      <td>0.700161</td>\n",
              "      <td>1.000000</td>\n",
              "    </tr>\n",
              "  </tbody>\n",
              "</table>\n",
              "</div>\n",
              "      <button class=\"colab-df-convert\" onclick=\"convertToInteractive('df-e7a3c707-c576-4458-8964-79bf9ad1a195')\"\n",
              "              title=\"Convert this dataframe to an interactive table.\"\n",
              "              style=\"display:none;\">\n",
              "        \n",
              "  <svg xmlns=\"http://www.w3.org/2000/svg\" height=\"24px\"viewBox=\"0 0 24 24\"\n",
              "       width=\"24px\">\n",
              "    <path d=\"M0 0h24v24H0V0z\" fill=\"none\"/>\n",
              "    <path d=\"M18.56 5.44l.94 2.06.94-2.06 2.06-.94-2.06-.94-.94-2.06-.94 2.06-2.06.94zm-11 1L8.5 8.5l.94-2.06 2.06-.94-2.06-.94L8.5 2.5l-.94 2.06-2.06.94zm10 10l.94 2.06.94-2.06 2.06-.94-2.06-.94-.94-2.06-.94 2.06-2.06.94z\"/><path d=\"M17.41 7.96l-1.37-1.37c-.4-.4-.92-.59-1.43-.59-.52 0-1.04.2-1.43.59L10.3 9.45l-7.72 7.72c-.78.78-.78 2.05 0 2.83L4 21.41c.39.39.9.59 1.41.59.51 0 1.02-.2 1.41-.59l7.78-7.78 2.81-2.81c.8-.78.8-2.07 0-2.86zM5.41 20L4 18.59l7.72-7.72 1.47 1.35L5.41 20z\"/>\n",
              "  </svg>\n",
              "      </button>\n",
              "      \n",
              "  <style>\n",
              "    .colab-df-container {\n",
              "      display:flex;\n",
              "      flex-wrap:wrap;\n",
              "      gap: 12px;\n",
              "    }\n",
              "\n",
              "    .colab-df-convert {\n",
              "      background-color: #E8F0FE;\n",
              "      border: none;\n",
              "      border-radius: 50%;\n",
              "      cursor: pointer;\n",
              "      display: none;\n",
              "      fill: #1967D2;\n",
              "      height: 32px;\n",
              "      padding: 0 0 0 0;\n",
              "      width: 32px;\n",
              "    }\n",
              "\n",
              "    .colab-df-convert:hover {\n",
              "      background-color: #E2EBFA;\n",
              "      box-shadow: 0px 1px 2px rgba(60, 64, 67, 0.3), 0px 1px 3px 1px rgba(60, 64, 67, 0.15);\n",
              "      fill: #174EA6;\n",
              "    }\n",
              "\n",
              "    [theme=dark] .colab-df-convert {\n",
              "      background-color: #3B4455;\n",
              "      fill: #D2E3FC;\n",
              "    }\n",
              "\n",
              "    [theme=dark] .colab-df-convert:hover {\n",
              "      background-color: #434B5C;\n",
              "      box-shadow: 0px 1px 3px 1px rgba(0, 0, 0, 0.15);\n",
              "      filter: drop-shadow(0px 1px 2px rgba(0, 0, 0, 0.3));\n",
              "      fill: #FFFFFF;\n",
              "    }\n",
              "  </style>\n",
              "\n",
              "      <script>\n",
              "        const buttonEl =\n",
              "          document.querySelector('#df-e7a3c707-c576-4458-8964-79bf9ad1a195 button.colab-df-convert');\n",
              "        buttonEl.style.display =\n",
              "          google.colab.kernel.accessAllowed ? 'block' : 'none';\n",
              "\n",
              "        async function convertToInteractive(key) {\n",
              "          const element = document.querySelector('#df-e7a3c707-c576-4458-8964-79bf9ad1a195');\n",
              "          const dataTable =\n",
              "            await google.colab.kernel.invokeFunction('convertToInteractive',\n",
              "                                                     [key], {});\n",
              "          if (!dataTable) return;\n",
              "\n",
              "          const docLinkHtml = 'Like what you see? Visit the ' +\n",
              "            '<a target=\"_blank\" href=https://colab.research.google.com/notebooks/data_table.ipynb>data table notebook</a>'\n",
              "            + ' to learn more about interactive tables.';\n",
              "          element.innerHTML = '';\n",
              "          dataTable['output_type'] = 'display_data';\n",
              "          await google.colab.output.renderOutput(dataTable, element);\n",
              "          const docLink = document.createElement('div');\n",
              "          docLink.innerHTML = docLinkHtml;\n",
              "          element.appendChild(docLink);\n",
              "        }\n",
              "      </script>\n",
              "    </div>\n",
              "  </div>\n",
              "  "
            ]
          },
          "metadata": {},
          "execution_count": 265
        }
      ]
    },
    {
      "cell_type": "code",
      "source": [
        "# ploting heat map to see the correlation the independent and target variables\n",
        "\n",
        "f, ax= plt.subplots(figsize = (6,6))\n",
        "plt.title(\"Correlation of Numerical Variable \\n including Target variable\")\n",
        "sns.heatmap(df[['target', '1',\t'2',\t'3',\t'4',\t'5',\t'6',\t'7']].corr(), cmap = 'coolwarm', square=True, vmin=-1, vmax=1)"
      ],
      "metadata": {
        "colab": {
          "base_uri": "https://localhost:8080/"
        },
        "id": "p41pSwnuzcj7",
        "outputId": "9ee2db5e-572c-4b55-ce53-53c70c75c77b"
      },
      "execution_count": null,
      "outputs": [
        {
          "output_type": "execute_result",
          "data": {
            "text/plain": [
              "<Axes: title={'center': 'Correlation of Numerical Variable \\n including Target variable'}>"
            ]
          },
          "metadata": {},
          "execution_count": 266
        },
        {
          "output_type": "display_data",
          "data": {
            "text/plain": [
              "<Figure size 600x600 with 2 Axes>"
            ],
            "image/png": "[encoded data removed]"
          },
          "metadata": {}
        }
      ]
    },
    {
      "cell_type": "markdown",
      "source": [
        "# Imputing missing values and removing unnecessary columns"
      ],
      "metadata": {
        "id": "L-6yrWJV0MzI"
      }
    },
    {
      "cell_type": "code",
      "source": [
        "# droping unnecessary columns and the columns having missing values in train dataset\n",
        "\n",
        "df1 = df.drop(['Id','3','4','5','6','7'], axis = 1)\n",
        "df1 = df1.dropna()"
      ],
      "metadata": {
        "id": "oi-JHgV-0T4m"
      },
      "execution_count": null,
      "outputs": []
    },
    {
      "cell_type": "code",
      "source": [
        "# checking if there's still any missing values in train dataset\n",
        "\n",
        "df1.isna().sum()"
      ],
      "metadata": {
        "colab": {
          "base_uri": "https://localhost:8080/"
        },
        "id": "A_26Jq-n0jx7",
        "outputId": "b2210141-4eba-44de-f1af-eaa2798bb12b"
      },
      "execution_count": null,
      "outputs": [
        {
          "output_type": "execute_result",
          "data": {
            "text/plain": [
              "target    0\n",
              "1         0\n",
              "2         0\n",
              "dtype: int64"
            ]
          },
          "metadata": {},
          "execution_count": 268
        }
      ]
    },
    {
      "cell_type": "code",
      "source": [
        "# checking the shape after imputing missing values in train dataset\n",
        "\n",
        "df1.shape"
      ],
      "metadata": {
        "colab": {
          "base_uri": "https://localhost:8080/"
        },
        "id": "-_bN4JSS0ncL",
        "outputId": "7cffbd80-7fe4-4150-bb92-27c1a766b466"
      },
      "execution_count": null,
      "outputs": [
        {
          "output_type": "execute_result",
          "data": {
            "text/plain": [
              "(144, 3)"
            ]
          },
          "metadata": {},
          "execution_count": 269
        }
      ]
    },
    {
      "cell_type": "code",
      "source": [
        "# droping unnecessary columns and the columns having missing values in test dataset\n",
        "\n",
        "dft = dft.drop(['Id','3','4','5','6','7'], axis = 1)\n",
        "dft = dft.dropna()"
      ],
      "metadata": {
        "id": "9By2EI5xMxm-"
      },
      "execution_count": null,
      "outputs": []
    },
    {
      "cell_type": "code",
      "source": [
        "# checking if there's still any missing values in test dataset\n",
        "\n",
        "dft.isna().sum()"
      ],
      "metadata": {
        "colab": {
          "base_uri": "https://localhost:8080/"
        },
        "id": "ZUtdXd6-MxgO",
        "outputId": "44a8f63a-e0a4-49c9-d480-bc9f2942688a"
      },
      "execution_count": null,
      "outputs": [
        {
          "output_type": "execute_result",
          "data": {
            "text/plain": [
              "1    0\n",
              "2    0\n",
              "dtype: int64"
            ]
          },
          "metadata": {},
          "execution_count": 271
        }
      ]
    },
    {
      "cell_type": "code",
      "source": [
        "# checking the shape after imputing missing values in test dataset\n",
        "\n",
        "dft.shape"
      ],
      "metadata": {
        "colab": {
          "base_uri": "https://localhost:8080/"
        },
        "id": "DggAGwncMxW7",
        "outputId": "ff0f8244-69f6-4041-8ba6-75ae2926104c"
      },
      "execution_count": null,
      "outputs": [
        {
          "output_type": "execute_result",
          "data": {
            "text/plain": [
              "(63, 2)"
            ]
          },
          "metadata": {},
          "execution_count": 272
        }
      ]
    },
    {
      "cell_type": "markdown",
      "source": [
        "# Outlier treatment"
      ],
      "metadata": {
        "id": "QouKU3GB0zOP"
      }
    },
    {
      "cell_type": "code",
      "source": [
        "# ploting box plot to see if there are outliers in the data\n",
        "\n",
        "sns.boxplot(x = 'target', data = df1)"
      ],
      "metadata": {
        "colab": {
          "base_uri": "https://localhost:8080/"
        },
        "id": "Gy5ULUfU02u6",
        "outputId": "203b4fdc-8cb9-4a81-8da9-3754079c2129"
      },
      "execution_count": null,
      "outputs": [
        {
          "output_type": "execute_result",
          "data": {
            "text/plain": [
              "<Axes: xlabel='target'>"
            ]
          },
          "metadata": {},
          "execution_count": 273
        },
        {
          "output_type": "display_data",
          "data": {
            "text/plain": [
              "<Figure size 640x480 with 1 Axes>"
            ],
            "image/png": "[encoded data removed]"
          },
          "metadata": {}
        }
      ]
    },
    {
      "cell_type": "code",
      "source": [
        "# removing data more than 97 percentile\n",
        "\n",
        "df2 = df1[df1.target<=np.percentile(df1.target.values, 97)]"
      ],
      "metadata": {
        "id": "ytrq4Xdv1DuL"
      },
      "execution_count": null,
      "outputs": []
    },
    {
      "cell_type": "code",
      "source": [
        "# checking if there are still outliers after removal\n",
        "\n",
        "sns.boxplot(x = 'target', data = df2)"
      ],
      "metadata": {
        "colab": {
          "base_uri": "https://localhost:8080/"
        },
        "id": "NJ8XQVWA1S0j",
        "outputId": "96558cf8-e89e-42f5-917b-5b6ce9a71587"
      },
      "execution_count": null,
      "outputs": [
        {
          "output_type": "execute_result",
          "data": {
            "text/plain": [
              "<Axes: xlabel='target'>"
            ]
          },
          "metadata": {},
          "execution_count": 275
        },
        {
          "output_type": "display_data",
          "data": {
            "text/plain": [
              "<Figure size 640x480 with 1 Axes>"
            ],
            "image/png": "[encoded data removed]"
          },
          "metadata": {}
        }
      ]
    },
    {
      "cell_type": "code",
      "source": [
        "# checking shape after outlier treatment\n",
        "\n",
        "df2.shape"
      ],
      "metadata": {
        "colab": {
          "base_uri": "https://localhost:8080/"
        },
        "id": "TPdRxjFE1uHD",
        "outputId": "9f6af248-4666-411d-d173-e6d918ca2ff4"
      },
      "execution_count": null,
      "outputs": [
        {
          "output_type": "execute_result",
          "data": {
            "text/plain": [
              "(139, 3)"
            ]
          },
          "metadata": {},
          "execution_count": 276
        }
      ]
    },
    {
      "cell_type": "code",
      "source": [],
      "metadata": {
        "id": "SMQl0XP06AgD"
      },
      "execution_count": null,
      "outputs": []
    },
    {
      "cell_type": "markdown",
      "source": [
        "# Transformation"
      ],
      "metadata": {
        "id": "oDmZei3K7RFt"
      }
    },
    {
      "cell_type": "code",
      "source": [
        "# normalising columns '1' and '2' in train dataset\n",
        "\n",
        "from sklearn.preprocessing import MinMaxScaler\n",
        "scale = MinMaxScaler()\n",
        "df2[['1_scaled']]= scale.fit_transform(df2[['1']])\n",
        "df2[['2_scaled']]= scale.fit_transform(df2[['2']])\n"
      ],
      "metadata": {
        "colab": {
          "base_uri": "https://localhost:8080/"
        },
        "id": "MXMjcWPB971l",
        "outputId": "c0f6d7b4-55ff-4476-efa4-ad8cba41368a"
      },
      "execution_count": null,
      "outputs": [
        {
          "output_type": "stream",
          "name": "stderr",
          "text": [
            "<ipython-input-277-5971f74ccddd>:5: SettingWithCopyWarning: \n",
            "A value is trying to be set on a copy of a slice from a DataFrame.\n",
            "Try using .loc[row_indexer,col_indexer] = value instead\n",
            "\n",
            "See the caveats in the documentation: https://pandas.pydata.org/pandas-docs/stable/user_guide/indexing.html#returning-a-view-versus-a-copy\n",
            "  df2[['1_scaled']]= scale.fit_transform(df2[['1']])\n",
            "<ipython-input-277-5971f74ccddd>:6: SettingWithCopyWarning: \n",
            "A value is trying to be set on a copy of a slice from a DataFrame.\n",
            "Try using .loc[row_indexer,col_indexer] = value instead\n",
            "\n",
            "See the caveats in the documentation: https://pandas.pydata.org/pandas-docs/stable/user_guide/indexing.html#returning-a-view-versus-a-copy\n",
            "  df2[['2_scaled']]= scale.fit_transform(df2[['2']])\n"
          ]
        }
      ]
    },
    {
      "cell_type": "code",
      "source": [
        "# normalising columns '1' and '2' in test dataset\n",
        "\n",
        "dft[['1_scaled']]= scale.fit_transform(dft[['1']])\n",
        "dft[['2_scaled']]= scale.fit_transform(dft[['2']])\n"
      ],
      "metadata": {
        "id": "l_3XmXm7KmAX"
      },
      "execution_count": null,
      "outputs": []
    },
    {
      "cell_type": "markdown",
      "source": [
        "# Modeling"
      ],
      "metadata": {
        "id": "qXjxLAq5Cji7"
      }
    },
    {
      "cell_type": "markdown",
      "source": [
        "### Spliting"
      ],
      "metadata": {
        "id": "v1XlA2W_Cwcy"
      }
    },
    {
      "cell_type": "code",
      "source": [
        "# spliting train dataset for train and validation\n",
        "\n",
        "from sklearn.model_selection import train_test_split\n",
        "\n",
        "X = df2.drop('target', axis=1)\n",
        "y = df2['target']\n",
        "\n",
        "# split train data into two parts :  train - 80% and validation - 20%\n",
        "X_train, X_val, y_train, y_val = train_test_split(X, y, test_size=0.2, random_state=2)"
      ],
      "metadata": {
        "id": "gF_dEzRB-Jca"
      },
      "execution_count": null,
      "outputs": []
    },
    {
      "cell_type": "markdown",
      "source": [
        "### Defining function for modeling"
      ],
      "metadata": {
        "id": "5zapsTXLDmb2"
      }
    },
    {
      "cell_type": "code",
      "source": [
        "# defining functions for modeling\n",
        "\n",
        "from sklearn.metrics import mean_squared_error\n",
        "from sklearn.metrics import mean_absolute_error\n",
        "from sklearn.metrics import r2_score\n",
        "from sklearn.model_selection import cross_val_score\n",
        "\n",
        "def model(regressor,X_train,y_train,X_val,y_val):\n",
        "\n",
        "    regressor.fit(X_train,y_train)\n",
        "    y_pred = regressor.predict(X_val)\n",
        "\n",
        "def model_evaluation(regressor,X_val,y_val):\n",
        "\n",
        "    mse = mean_squared_error(y_val, regressor.predict(X_val))\n",
        "    mae = mean_absolute_error(y_val, regressor.predict(X_val))\n",
        "    r2 = r2_score(y_val, regressor.predict(X_val))\n",
        "    cv_scores = cross_val_score(regressor, X_train, y_train, cv=5)\n",
        "    print(\"MSE =\", mse, \"\\n MAE =\", mae, \"\\n r2 =\", r2, \"\\n Cross validation scores =\", cv_scores.mean())"
      ],
      "metadata": {
        "id": "_RJ9lh4xCLFT"
      },
      "execution_count": null,
      "outputs": []
    },
    {
      "cell_type": "markdown",
      "source": [
        "### Linear Regression"
      ],
      "metadata": {
        "id": "VHxPJ-4yC1K6"
      }
    },
    {
      "cell_type": "code",
      "source": [
        "# modeling using linear regression\n",
        "\n",
        "from sklearn.linear_model import LinearRegression\n",
        "\n",
        "# making object of the regressor\n",
        "\n",
        "regressor_lin_reg = LinearRegression()\n",
        "\n",
        "# calling previously defined function\n",
        "\n",
        "model(regressor_lin_reg,X_train,y_train,X_val,y_val)\n",
        "model_evaluation(regressor_lin_reg,X_val,y_val)"
      ],
      "metadata": {
        "colab": {
          "base_uri": "https://localhost:8080/"
        },
        "id": "CSin6yySGIbK",
        "outputId": "a2a7d3ee-a247-4abd-ff91-43bdd7bc19a5"
      },
      "execution_count": null,
      "outputs": [
        {
          "output_type": "stream",
          "name": "stdout",
          "text": [
            "MSE = 0.9814262462636202 \n",
            " MAE = 0.773647164470555 \n",
            " r2 = 0.6129129256416272 \n",
            " Cross validation scores = 0.47329377594271876\n"
          ]
        }
      ]
    },
    {
      "cell_type": "code",
      "source": [
        "# plotting regression plot of actual vs predicted with regression line\n",
        "g = sns.regplot(x = regressor_lin_reg.fit(X_train,y_train).predict(X_val), y = y_val, fit_reg=True)\n",
        "g.set(xlabel='Predicted', ylabel='Actual', title='Model Predictions')\n",
        "plt.title('Regression Plot for Actual vs Predicted Values')"
      ],
      "metadata": {
        "colab": {
          "base_uri": "https://localhost:8080/",
          "height": 489
        },
        "id": "mJ51xkKzN-UF",
        "outputId": "64db0468-5b63-4169-f854-f06694100987"
      },
      "execution_count": null,
      "outputs": [
        {
          "output_type": "execute_result",
          "data": {
            "text/plain": [
              "Text(0.5, 1.0, 'Regression Plot for Actual vs Predicted Values')"
            ]
          },
          "metadata": {},
          "execution_count": 282
        },
        {
          "output_type": "display_data",
          "data": {
            "text/plain": [
              "<Figure size 640x480 with 1 Axes>"
            ],
            "image/png": "[encoded data removed]"
          },
          "metadata": {}
        }
      ]
    },
    {
      "cell_type": "markdown",
      "source": [
        "### Decision Tree Regressor"
      ],
      "metadata": {
        "id": "xUu7zU7JMlrn"
      }
    },
    {
      "cell_type": "code",
      "source": [
        "# modeling using decision tree\n",
        "\n",
        "from sklearn.tree import DecisionTreeRegressor\n",
        "\n",
        "# making object of the regressor\n",
        "\n",
        "regressor_dt_reg = DecisionTreeRegressor()\n",
        "\n",
        "# calling previously defined function\n",
        "\n",
        "model(regressor_dt_reg,X_train,y_train,X_val,y_val)\n",
        "model_evaluation(regressor_dt_reg,X_val,y_val)"
      ],
      "metadata": {
        "colab": {
          "base_uri": "https://localhost:8080/"
        },
        "id": "WykEBcv8Gy96",
        "outputId": "d80c11a0-dde4-473e-cf97-4015022c3a03"
      },
      "execution_count": null,
      "outputs": [
        {
          "output_type": "stream",
          "name": "stdout",
          "text": [
            "MSE = 3.2715464285714284 \n",
            " MAE = 1.4375000000000002 \n",
            " r2 = -0.290339789143093 \n",
            " Cross validation scores = 0.08153282914644133\n"
          ]
        }
      ]
    },
    {
      "cell_type": "code",
      "source": [
        "# Convert the actual and predicted values to numpy arrays\n",
        "y_actual = np.array(y_val)\n",
        "y_predicted = np.array(regressor_dt_reg.fit(X_train,y_train).predict(X_val))\n",
        "\n",
        "# Sort the actual and predicted values based on the actual values\n",
        "sorted_indexes = np.argsort(y_actual)\n",
        "y_actual_sorted = y_actual[sorted_indexes]\n",
        "y_predicted_sorted = y_predicted[sorted_indexes]\n",
        "\n",
        "plt.scatter(range(len(y_actual_sorted)), y_actual_sorted, color='b', label='Actual')\n",
        "plt.scatter(range(len(y_predicted_sorted)), y_predicted_sorted, color='r', label='Predicted')\n",
        "\n",
        "# Add labels and legend\n",
        "plt.xlabel('Sample Index')\n",
        "plt.ylabel('Target Value')\n",
        "plt.legend()\n",
        "\n",
        "# Show the plot\n",
        "plt.show()"
      ],
      "metadata": {
        "id": "ln9Yn81OMtje",
        "colab": {
          "base_uri": "https://localhost:8080/",
          "height": 449
        },
        "outputId": "95f9ef7d-08e4-4715-cdc9-aadeb93319c9"
      },
      "execution_count": null,
      "outputs": [
        {
          "output_type": "display_data",
          "data": {
            "text/plain": [
              "<Figure size 640x480 with 1 Axes>"
            ],
            "image/png": "[encoded data removed]"
          },
          "metadata": {}
        }
      ]
    },
    {
      "cell_type": "markdown",
      "source": [
        "### Random Forest Regressor"
      ],
      "metadata": {
        "id": "cwlQtUsjMxhW"
      }
    },
    {
      "cell_type": "code",
      "source": [
        "# modeling using decision tree\n",
        "\n",
        "from sklearn.ensemble import RandomForestRegressor\n",
        "from sklearn.model_selection import GridSearchCV\n",
        "from sklearn.metrics import make_scorer\n",
        "\n",
        "# making object of the regressor\n",
        "\n",
        "regressor_rf_reg = RandomForestRegressor(criterion = 'absolute_error', random_state = 11)\n",
        "\n",
        "# Create the parameters list you wish to tune, using a dictionary.\n",
        "parameters = {'max_depth' : np.arange(1,10,1,dtype = int),\n",
        "              'n_estimators': [5, 10, 15]\n",
        "              }\n",
        "\n",
        "# Make an r2_score scoring object using make_scorer()\n",
        "scorer = make_scorer(r2_score)\n",
        "\n",
        "# Performing grid search on the regressor using 'scorer' as the scoring method using GridSearchCV()\n",
        "grid_obj = GridSearchCV(regressor_rf_reg, parameters, scoring = scorer, cv = 5)\n",
        "\n",
        "# Fitting the grid search object to the training data and find the optimal parameters using fit()\n",
        "grid_fit = grid_obj.fit(X_train, y_train)\n",
        "\n",
        "# Get the estimator\n",
        "best_regrf = grid_fit.best_estimator_\n",
        "\n",
        "# Making predictions using the unoptimized and optimized model\n",
        "predictions = (regressor_rf_reg.fit(X_train, y_train)).predict(X_val)\n",
        "best_predictions = best_regrf.predict(X_val)\n",
        "\n",
        "# storing the model evaluation metrics\n",
        "\n",
        "mse = mean_squared_error(y_val, predictions)\n",
        "mae = mean_absolute_error(y_val, predictions)\n",
        "r2 = r2_score(y_val, predictions)\n",
        "cv_scores = cross_val_score(regressor_rf_reg, X_train, y_train, cv=5)\n",
        "\n",
        "\n",
        "mseopt = mean_squared_error(y_val, best_predictions)\n",
        "maeopt = mean_absolute_error(y_val, best_predictions)\n",
        "r2opt = r2_score(y_val, best_predictions)\n",
        "cv_scoresopt = cross_val_score(best_regrf, X_train, y_train, cv=5)\n",
        "\n",
        "# printing the model evaluation metrics\n",
        "\n",
        "print(\"MSE without optimisation =\", mse)\n",
        "print(\"MAE without optimisation =\", mae)\n",
        "print(\"R2 without optimisation =\", r2)\n",
        "print(\"Cross validation scores without optimisation =\", cv_scores.mean())\n",
        "\n",
        "print(\"\\n\")\n",
        "print(\"MSE with optimisation =\", mseopt)\n",
        "print(\"MAE with optimisation =\", maeopt)\n",
        "print(\"R2 with optimisation =\", r2opt)\n",
        "print(\"Cross validation scores with optimisation =\", cv_scoresopt.mean())"
      ],
      "metadata": {
        "id": "gl23VuogM4ng",
        "colab": {
          "base_uri": "https://localhost:8080/"
        },
        "outputId": "3a65712c-908e-4f48-f40c-397681319027"
      },
      "execution_count": null,
      "outputs": [
        {
          "output_type": "stream",
          "name": "stdout",
          "text": [
            "MSE without optimisation = 1.3308225870535686\n",
            "MAE without optimisation = 0.9420196428571417\n",
            "R2 without optimisation = 0.4751065363558311\n",
            "Cross validation scores without optimisation = 0.36479086244254993\n",
            "\n",
            "\n",
            "MSE with optimisation = 1.0069650714285718\n",
            "MAE with optimisation = 0.7392142857142859\n",
            "R2 with optimisation = 0.6028400860846184\n",
            "Cross validation scores with optimisation = 0.4456372960397624\n"
          ]
        }
      ]
    },
    {
      "cell_type": "code",
      "source": [
        "# Convert the actual and predicted values to numpy arrays\n",
        "y_actual = np.array(y_val)\n",
        "y_predicted = np.array(best_predictions)\n",
        "\n",
        "# Sort the actual and predicted values based on the actual values\n",
        "sorted_indexes = np.argsort(y_actual)\n",
        "y_actual_sorted = y_actual[sorted_indexes]\n",
        "y_predicted_sorted = y_predicted[sorted_indexes]\n",
        "\n",
        "plt.scatter(range(len(y_actual_sorted)), y_actual_sorted, color='b', label='Actual')\n",
        "plt.scatter(range(len(y_predicted_sorted)), y_predicted_sorted, color='r', label='Predicted')\n",
        "\n",
        "# Add labels and legend\n",
        "plt.xlabel('Sample Index')\n",
        "plt.ylabel('Target Value')\n",
        "plt.legend()\n",
        "\n",
        "# Show the plot\n",
        "plt.show()"
      ],
      "metadata": {
        "colab": {
          "base_uri": "https://localhost:8080/",
          "height": 449
        },
        "id": "kuNe2rfcWrvv",
        "outputId": "fc350376-b151-4347-b651-0d20ef74d797"
      },
      "execution_count": null,
      "outputs": [
        {
          "output_type": "display_data",
          "data": {
            "text/plain": [
              "<Figure size 640x480 with 1 Axes>"
            ],
            "image/png": "[encoded data removed]"
          },
          "metadata": {}
        }
      ]
    },
    {
      "cell_type": "markdown",
      "source": [
        "### XGB Regressor"
      ],
      "metadata": {
        "id": "98h7JafENrDK"
      }
    },
    {
      "cell_type": "code",
      "source": [
        "# modeling using decision tree\n",
        "\n",
        "from xgboost import XGBRegressor\n",
        "\n",
        "# making object of the regressor\n",
        "\n",
        "regressor_xgb_reg = XGBRegressor(random_state = 0)\n",
        "\n",
        "# Create the parameters list you wish to tune, using a dictionary if needed.\n",
        "parameters = {'max_depth' : np.arange(1,10,1,dtype = int),\n",
        "              'colsample_bytree' : (0.1, 0.8, 0.9),\n",
        "              'n_estimators': [5, 10, 15],\n",
        "               'subsample' : (0.1, 0.5, 0.8)\n",
        "              }\n",
        "\n",
        "# Make an r2_score scoring object using make_scorer()\n",
        "scorer = make_scorer(r2_score)\n",
        "\n",
        "# Performing grid search on the regressor using 'scorer' as the scoring method using GridSearchCV()\n",
        "grid_obj = GridSearchCV(regressor_xgb_reg, parameters, scoring = scorer, cv = 5)\n",
        "\n",
        "# Fitting the grid search object to the training data and find the optimal parameters using fit()\n",
        "grid_fit = grid_obj.fit(X_train, y_train)\n",
        "\n",
        "# Get the estimator\n",
        "best_regxgb = grid_fit.best_estimator_\n",
        "\n",
        "# Making predictions using the unoptimized and optimized model\n",
        "predictions = (regressor_xgb_reg.fit(X_train, y_train)).predict(X_val)\n",
        "best_predictions = best_regxgb.predict(X_val)\n",
        "\n",
        "# storing the model evaluation metrics\n",
        "\n",
        "mse = mean_squared_error(y_val, predictions)\n",
        "mae = mean_absolute_error(y_val, predictions)\n",
        "r2 = r2_score(y_val, predictions)\n",
        "cv_scores = cross_val_score(regressor_xgb_reg, X_train, y_train, cv=5)\n",
        "\n",
        "mseopt = mean_squared_error(y_val, best_predictions)\n",
        "maeopt = mean_absolute_error(y_val, best_predictions)\n",
        "r2opt = r2_score(y_val, best_predictions)\n",
        "cv_scoresopt = cross_val_score(best_regxgb, X_train, y_train, cv=5)\n",
        "\n",
        "# printing the model evaluation metrics\n",
        "\n",
        "print(\"MSE without optimisation =\", mse)\n",
        "print(\"MAE without optimisation =\", mae)\n",
        "print(\"R2 without optimisation =\", r2)\n",
        "print(\"Cross validation scores without optimisation =\", cv_scores.mean())\n",
        "print(\"\\n\")\n",
        "print(\"MSE with optimisation =\", mseopt)\n",
        "print(\"MAE with optimisation =\", maeopt)\n",
        "print(\"R2 with optimisation =\", r2opt)\n",
        "print(\"Cross validation scores with optimisation =\", cv_scoresopt.mean())"
      ],
      "metadata": {
        "id": "vsvOzE4SNu9B",
        "colab": {
          "base_uri": "https://localhost:8080/"
        },
        "outputId": "d762d151-8d28-46fc-918d-aed4328f90ef"
      },
      "execution_count": null,
      "outputs": [
        {
          "output_type": "stream",
          "name": "stdout",
          "text": [
            "MSE without optimisation = 2.009607685809739\n",
            "MAE without optimisation = 1.1053130166871206\n",
            "R2 without optimisation = 0.20738500455872022\n",
            "Cross validation scores without optimisation = 0.2631437189742211\n",
            "\n",
            "\n",
            "MSE with optimisation = 0.9294246213770881\n",
            "MAE with optimisation = 0.7489943265914916\n",
            "R2 with optimisation = 0.6334230321481965\n",
            "Cross validation scores with optimisation = 0.4274369048394265\n"
          ]
        }
      ]
    },
    {
      "cell_type": "code",
      "source": [
        "# Convert the actual and predicted values to numpy arrays\n",
        "y_actual = np.array(y_val)\n",
        "y_predicted = np.array(best_predictions)\n",
        "\n",
        "# Sort the actual and predicted values based on the actual values\n",
        "sorted_indexes = np.argsort(y_actual)\n",
        "y_actual_sorted = y_actual[sorted_indexes]\n",
        "y_predicted_sorted = y_predicted[sorted_indexes]\n",
        "\n",
        "plt.scatter(range(len(y_actual_sorted)), y_actual_sorted, color='b', label='Actual')\n",
        "plt.scatter(range(len(y_predicted_sorted)), y_predicted_sorted, color='r', label='Predicted')\n",
        "\n",
        "# Add labels and legend\n",
        "plt.xlabel('Sample Index')\n",
        "plt.ylabel('Target Value')\n",
        "plt.legend()\n",
        "\n",
        "# Show the plot\n",
        "plt.show()"
      ],
      "metadata": {
        "colab": {
          "base_uri": "https://localhost:8080/",
          "height": 449
        },
        "id": "kh87hmT9_gRK",
        "outputId": "b7330ee5-5dc4-4df2-8138-12813951ccee"
      },
      "execution_count": null,
      "outputs": [
        {
          "output_type": "display_data",
          "data": {
            "text/plain": [
              "<Figure size 640x480 with 1 Axes>"
            ],
            "image/png": "[encoded data removed]"
          },
          "metadata": {}
        }
      ]
    },
    {
      "cell_type": "markdown",
      "source": [
        "# Evaluation Table"
      ],
      "metadata": {
        "id": "gY-5mwuUXtHB"
      }
    },
    {
      "cell_type": "code",
      "source": [
        "# Define the dataframe for evaluation of models\n",
        "d = {\n",
        "    \"Models\" : [\"MSE\", \"MAE\", \"R2 score\", \"CV score\"],\n",
        "    \"Linear Regresion\" : [0.9814262462636202, 0.773647164470555, 0.6129129256416272, 0.47329377594271876],\n",
        "    \"Decision Tree\" : [3.2715464285714284, 1.4375000000000002, -0.290339789143093, 0.08153282914644133],\n",
        "    \"Random Forest\" : [1.0069650714285718, 0.7392142857142859, 0.6028400860846184, 0.4456372960397624],\n",
        "    \"Xgboost \" : [0.9294246213770881, 0.7489943265914916, 0.6334230321481965, 0.4274369048394265]\n",
        "}\n",
        "\n",
        "d = pd.DataFrame(d)\n",
        "d"
      ],
      "metadata": {
        "colab": {
          "base_uri": "https://localhost:8080/",
          "height": 175
        },
        "id": "f2BjoOPdXzh-",
        "outputId": "2138d760-9faf-4ce7-c2de-e963d5075db5"
      },
      "execution_count": null,
      "outputs": [
        {
          "output_type": "execute_result",
          "data": {
            "text/plain": [
              "     Models  Linear Regresion  Decision Tree  Random Forest  Xgboost \n",
              "0       MSE          0.981426       3.271546       1.006965  0.929425\n",
              "1       MAE          0.773647       1.437500       0.739214  0.748994\n",
              "2  R2 score          0.612913      -0.290340       0.602840  0.633423\n",
              "3  CV score          0.473294       0.081533       0.445637  0.427437"
            ],
            "text/html": [
              "\n",
              "  <div id=\"df-1990dc91-49fc-4dc4-98b8-3e41e4eb4c43\">\n",
              "    <div class=\"colab-df-container\">\n",
              "      <div>\n",
              "<style scoped>\n",
              "    .dataframe tbody tr th:only-of-type {\n",
              "        vertical-align: middle;\n",
              "    }\n",
              "\n",
              "    .dataframe tbody tr th {\n",
              "        vertical-align: top;\n",
              "    }\n",
              "\n",
              "    .dataframe thead th {\n",
              "        text-align: right;\n",
              "    }\n",
              "</style>\n",
              "<table border=\"1\" class=\"dataframe\">\n",
              "  <thead>\n",
              "    <tr style=\"text-align: right;\">\n",
              "      <th></th>\n",
              "      <th>Models</th>\n",
              "      <th>Linear Regresion</th>\n",
              "      <th>Decision Tree</th>\n",
              "      <th>Random Forest</th>\n",
              "      <th>Xgboost</th>\n",
              "    </tr>\n",
              "  </thead>\n",
              "  <tbody>\n",
              "    <tr>\n",
              "      <th>0</th>\n",
              "      <td>MSE</td>\n",
              "      <td>0.981426</td>\n",
              "      <td>3.271546</td>\n",
              "      <td>1.006965</td>\n",
              "      <td>0.929425</td>\n",
              "    </tr>\n",
              "    <tr>\n",
              "      <th>1</th>\n",
              "      <td>MAE</td>\n",
              "      <td>0.773647</td>\n",
              "      <td>1.437500</td>\n",
              "      <td>0.739214</td>\n",
              "      <td>0.748994</td>\n",
              "    </tr>\n",
              "    <tr>\n",
              "      <th>2</th>\n",
              "      <td>R2 score</td>\n",
              "      <td>0.612913</td>\n",
              "      <td>-0.290340</td>\n",
              "      <td>0.602840</td>\n",
              "      <td>0.633423</td>\n",
              "    </tr>\n",
              "    <tr>\n",
              "      <th>3</th>\n",
              "      <td>CV score</td>\n",
              "      <td>0.473294</td>\n",
              "      <td>0.081533</td>\n",
              "      <td>0.445637</td>\n",
              "      <td>0.427437</td>\n",
              "    </tr>\n",
              "  </tbody>\n",
              "</table>\n",
              "</div>\n",
              "      <button class=\"colab-df-convert\" onclick=\"convertToInteractive('df-1990dc91-49fc-4dc4-98b8-3e41e4eb4c43')\"\n",
              "              title=\"Convert this dataframe to an interactive table.\"\n",
              "              style=\"display:none;\">\n",
              "        \n",
              "  <svg xmlns=\"http://www.w3.org/2000/svg\" height=\"24px\"viewBox=\"0 0 24 24\"\n",
              "       width=\"24px\">\n",
              "    <path d=\"M0 0h24v24H0V0z\" fill=\"none\"/>\n",
              "    <path d=\"M18.56 5.44l.94 2.06.94-2.06 2.06-.94-2.06-.94-.94-2.06-.94 2.06-2.06.94zm-11 1L8.5 8.5l.94-2.06 2.06-.94-2.06-.94L8.5 2.5l-.94 2.06-2.06.94zm10 10l.94 2.06.94-2.06 2.06-.94-2.06-.94-.94-2.06-.94 2.06-2.06.94z\"/><path d=\"M17.41 7.96l-1.37-1.37c-.4-.4-.92-.59-1.43-.59-.52 0-1.04.2-1.43.59L10.3 9.45l-7.72 7.72c-.78.78-.78 2.05 0 2.83L4 21.41c.39.39.9.59 1.41.59.51 0 1.02-.2 1.41-.59l7.78-7.78 2.81-2.81c.8-.78.8-2.07 0-2.86zM5.41 20L4 18.59l7.72-7.72 1.47 1.35L5.41 20z\"/>\n",
              "  </svg>\n",
              "      </button>\n",
              "      \n",
              "  <style>\n",
              "    .colab-df-container {\n",
              "      display:flex;\n",
              "      flex-wrap:wrap;\n",
              "      gap: 12px;\n",
              "    }\n",
              "\n",
              "    .colab-df-convert {\n",
              "      background-color: #E8F0FE;\n",
              "      border: none;\n",
              "      border-radius: 50%;\n",
              "      cursor: pointer;\n",
              "      display: none;\n",
              "      fill: #1967D2;\n",
              "      height: 32px;\n",
              "      padding: 0 0 0 0;\n",
              "      width: 32px;\n",
              "    }\n",
              "\n",
              "    .colab-df-convert:hover {\n",
              "      background-color: #E2EBFA;\n",
              "      box-shadow: 0px 1px 2px rgba(60, 64, 67, 0.3), 0px 1px 3px 1px rgba(60, 64, 67, 0.15);\n",
              "      fill: #174EA6;\n",
              "    }\n",
              "\n",
              "    [theme=dark] .colab-df-convert {\n",
              "      background-color: #3B4455;\n",
              "      fill: #D2E3FC;\n",
              "    }\n",
              "\n",
              "    [theme=dark] .colab-df-convert:hover {\n",
              "      background-color: #434B5C;\n",
              "      box-shadow: 0px 1px 3px 1px rgba(0, 0, 0, 0.15);\n",
              "      filter: drop-shadow(0px 1px 2px rgba(0, 0, 0, 0.3));\n",
              "      fill: #FFFFFF;\n",
              "    }\n",
              "  </style>\n",
              "\n",
              "      <script>\n",
              "        const buttonEl =\n",
              "          document.querySelector('#df-1990dc91-49fc-4dc4-98b8-3e41e4eb4c43 button.colab-df-convert');\n",
              "        buttonEl.style.display =\n",
              "          google.colab.kernel.accessAllowed ? 'block' : 'none';\n",
              "\n",
              "        async function convertToInteractive(key) {\n",
              "          const element = document.querySelector('#df-1990dc91-49fc-4dc4-98b8-3e41e4eb4c43');\n",
              "          const dataTable =\n",
              "            await google.colab.kernel.invokeFunction('convertToInteractive',\n",
              "                                                     [key], {});\n",
              "          if (!dataTable) return;\n",
              "\n",
              "          const docLinkHtml = 'Like what you see? Visit the ' +\n",
              "            '<a target=\"_blank\" href=https://colab.research.google.com/notebooks/data_table.ipynb>data table notebook</a>'\n",
              "            + ' to learn more about interactive tables.';\n",
              "          element.innerHTML = '';\n",
              "          dataTable['output_type'] = 'display_data';\n",
              "          await google.colab.output.renderOutput(dataTable, element);\n",
              "          const docLink = document.createElement('div');\n",
              "          docLink.innerHTML = docLinkHtml;\n",
              "          element.appendChild(docLink);\n",
              "        }\n",
              "      </script>\n",
              "    </div>\n",
              "  </div>\n",
              "  "
            ]
          },
          "metadata": {},
          "execution_count": 302
        }
      ]
    },
    {
      "cell_type": "markdown",
      "source": [
        "# Testing"
      ],
      "metadata": {
        "id": "qqpJTkwINDUk"
      }
    },
    {
      "cell_type": "markdown",
      "source": [
        "### Linear regression"
      ],
      "metadata": {
        "id": "vzqWMkZLNpVd"
      }
    },
    {
      "cell_type": "code",
      "source": [
        "# predicting on test dataset using linear regression\n",
        "\n",
        "y_pred_linreg = regressor_lin_reg.predict(dft)\n",
        "y_pred_linreg"
      ],
      "metadata": {
        "colab": {
          "base_uri": "https://localhost:8080/"
        },
        "id": "CN-xgygTNGVW",
        "outputId": "cf9ed8f4-4798-4acb-fe54-e7b21075f2fe"
      },
      "execution_count": null,
      "outputs": [
        {
          "output_type": "execute_result",
          "data": {
            "text/plain": [
              "array([6.05442741, 4.65664074, 3.05213352, 5.3436407 , 4.92851032,\n",
              "       4.4119365 , 5.08902817, 4.14560122, 4.59269753, 6.09577834,\n",
              "       6.06836275, 4.46867315, 4.75884637, 6.37607734, 5.00205471,\n",
              "       3.64970286, 5.50059793, 4.46434467, 8.55675608, 5.54723859,\n",
              "       3.86749201, 5.49195233, 3.88768401, 5.06024176, 7.89570996,\n",
              "       3.36365905, 6.10106807, 4.24823913, 4.00618544, 5.38767064,\n",
              "       4.3852603 , 5.00373832, 4.00334151, 3.65595952, 4.16556568,\n",
              "       4.82157808, 3.98767705, 3.96267879, 7.45148605, 4.82851727,\n",
              "       4.37155818, 6.33182562, 1.67457867, 6.21596338, 6.3993636 ,\n",
              "       3.51893835, 4.88812633, 8.21781496, 4.78284355, 6.25634737,\n",
              "       4.58092359, 6.40730387, 4.47996362, 4.77852075, 5.91405038,\n",
              "       6.79766353, 3.83282435, 6.5938381 , 5.74386881, 4.21844028,\n",
              "       6.32027923, 7.00055041, 4.42564429])"
            ]
          },
          "metadata": {},
          "execution_count": 289
        }
      ]
    },
    {
      "cell_type": "markdown",
      "source": [
        "### Decision Tree"
      ],
      "metadata": {
        "id": "_vrjLFj8OLiI"
      }
    },
    {
      "cell_type": "code",
      "source": [
        "# predicting on test dataset using decision tree\n",
        "\n",
        "y_pred_dtreg = regressor_dt_reg.predict(dft)\n",
        "y_pred_dtreg"
      ],
      "metadata": {
        "colab": {
          "base_uri": "https://localhost:8080/"
        },
        "id": "kMMtY9fSN5Ze",
        "outputId": "0cf30197-c5ec-43ca-d399-85920774cd2d"
      },
      "execution_count": null,
      "outputs": [
        {
          "output_type": "execute_result",
          "data": {
            "text/plain": [
              "array([7.  , 6.5 , 2.2 , 4.28, 9.  , 6.5 , 4.85, 4.7 , 6.5 , 7.4 , 6.5 ,\n",
              "       4.1 , 4.98, 8.  , 4.85, 3.3 , 5.92, 5.12, 9.1 , 4.28, 3.35, 4.28,\n",
              "       3.35, 5.85, 8.2 , 4.6 , 6.8 , 4.5 , 4.4 , 4.85, 3.05, 4.85, 4.7 ,\n",
              "       2.5 , 2.5 , 4.85, 4.4 , 3.1 , 8.2 , 5.85, 3.05, 5.4 , 4.25, 8.8 ,\n",
              "       6.5 , 3.15, 9.  , 8.2 , 9.  , 5.4 , 6.5 , 5.4 , 6.5 , 2.1 , 7.1 ,\n",
              "       2.5 , 4.6 , 5.4 , 4.28, 5.12, 6.5 , 2.5 , 5.12])"
            ]
          },
          "metadata": {},
          "execution_count": 290
        }
      ]
    },
    {
      "cell_type": "markdown",
      "source": [
        "### Random Forest"
      ],
      "metadata": {
        "id": "6h2gV2FlORqm"
      }
    },
    {
      "cell_type": "code",
      "source": [
        "# predicting on test dataset using random forest\n",
        "\n",
        "y_pred_rfreg = best_regrf.predict(dft)\n",
        "y_pred_rfreg"
      ],
      "metadata": {
        "colab": {
          "base_uri": "https://localhost:8080/"
        },
        "id": "byxpZYGeOJk9",
        "outputId": "828c8c66-33e9-463c-e63c-1118ea8f15c7"
      },
      "execution_count": null,
      "outputs": [
        {
          "output_type": "execute_result",
          "data": {
            "text/plain": [
              "array([6.418, 4.704, 3.549, 4.704, 4.704, 4.704, 4.704, 4.704, 4.704,\n",
              "       6.418, 6.418, 4.704, 4.704, 4.704, 6.418, 3.549, 6.418, 4.704,\n",
              "       8.475, 6.418, 3.549, 5.923, 3.549, 4.704, 7.994, 3.549, 6.418,\n",
              "       4.704, 4.236, 6.418, 4.704, 5.923, 4.704, 3.549, 3.549, 5.923,\n",
              "       3.804, 3.549, 7.733, 4.704, 4.704, 6.418, 2.817, 6.418, 6.778,\n",
              "       3.549, 4.704, 7.994, 4.704, 6.418, 4.704, 6.418, 4.704, 4.704,\n",
              "       6.418, 6.778, 3.549, 6.679, 6.418, 4.236, 6.778, 6.778, 4.704])"
            ]
          },
          "metadata": {},
          "execution_count": 291
        }
      ]
    },
    {
      "cell_type": "markdown",
      "source": [
        "### XGB"
      ],
      "metadata": {
        "id": "iTpdsU3MOVg6"
      }
    },
    {
      "cell_type": "code",
      "source": [
        "# predicting on test dataset using xgb\n",
        "\n",
        "y_pred_xgbreg = best_regxgb.predict(dft)\n",
        "y_pred_xgbreg"
      ],
      "metadata": {
        "colab": {
          "base_uri": "https://localhost:8080/"
        },
        "id": "OQJZhfKkOXml",
        "outputId": "5c88ee80-0223-4799-da01-24d648ef2841"
      },
      "execution_count": null,
      "outputs": [
        {
          "output_type": "execute_result",
          "data": {
            "text/plain": [
              "array([6.591587 , 4.6185727, 3.0370615, 4.3266363, 5.6039686, 4.9020696,\n",
              "       4.6185727, 4.5624604, 4.9105587, 6.3832884, 5.606191 , 5.25587  ,\n",
              "       4.6185727, 5.631333 , 5.063722 , 3.6592693, 5.180384 , 5.25587  ,\n",
              "       7.2377753, 4.6448283, 3.5228403, 4.3266363, 4.328202 , 5.1755486,\n",
              "       7.2377753, 3.490658 , 6.1931443, 4.5624604, 4.2704744, 5.180384 ,\n",
              "       5.6964865, 4.9105587, 4.397432 , 2.902189 , 3.6792865, 4.74553  ,\n",
              "       3.532312 , 3.532312 , 7.210411 , 4.3181467, 4.891125 , 6.3832884,\n",
              "       2.4854817, 5.3142548, 7.210411 , 3.6592693, 5.6039686, 7.2377753,\n",
              "       5.595479 , 6.3832884, 4.6100836, 6.3832884, 4.6100836, 3.9785376,\n",
              "       5.6275353, 6.845666 , 3.824298 , 6.6189513, 5.713862 , 5.25587  ,\n",
              "       7.6510277, 7.0021124, 5.25587  ], dtype=float32)"
            ]
          },
          "metadata": {},
          "execution_count": 292
        }
      ]
    }
  ]
}